{
 "cells": [
  {
   "cell_type": "markdown",
   "metadata": {},
   "source": [
    "## feature extraction exercise\n",
    "```This exercise is purely about features extraction. We will learn how to do it quick and efficiently.\n",
    "We will be working on a kaggle dataset of quora questions, where each record is composed of a pair of questions, while the target is to determine whether the questions have the same meaning.\n",
    "We will extract features for each question and for each pair of questions and will train a simple model (default xgboost) using those features.```\n",
    "\n",
    "```The purpose of this exercise is to acquire good practices, so please read the instructions carefully and do as it says. You are also encouraged to look at the solution when after you are finished. In addition, when solving the exercise, try to write\n",
    "as efficient and as clean code as you can.```\n",
    "\n",
    "```Note: We are about to do some kaggle cheats, that is, we will compute features by mixing the train and the test.\n",
    "Please notice exactly where we did so. In addition, every time you meet a question in the instructions (you can identify a question by '?'), please answer it in a comment block. ```\n",
    "\n",
    "```~Ittai Haran```"
   ]
  },
  {
   "cell_type": "code",
   "execution_count": 6,
   "metadata": {},
   "outputs": [],
   "source": [
    "# some modules you might find useful\n",
    "\n",
    "import pandas as pd\n",
    "import numpy as np\n",
    "from collections import Counter\n",
    "from functools import partial\n",
    "import re\n",
    "import os\n",
    "\n",
    "import matplotlib.pyplot as plt\n",
    "%matplotlib inline"
   ]
  },
  {
   "cell_type": "code",
   "execution_count": 7,
   "metadata": {},
   "outputs": [],
   "source": [
    "# sentence tokenizer for future use\n",
    "\n",
    "from nltk import pos_tag\n",
    "from nltk.tokenize import TweetTokenizer\n",
    "from sklearn.feature_extraction.text import TfidfVectorizer\n",
    "twt_tokenizer = TweetTokenizer()\n",
    "\n",
    "# word2vec model for future use\n",
    "\n",
    "## can be found in: https://drive.google.com/file/d/0B7XkCwpI5KDYNlNUTTlSS21pQmM/edit\n",
    "from gensim.models import KeyedVectors\n",
    "word2vec = KeyedVectors.load_word2vec_format('D:\\Download\\GoogleNews-vectors-negative300.bin.gz', binary=True)"
   ]
  },
  {
   "cell_type": "code",
   "execution_count": 9,
   "metadata": {},
   "outputs": [],
   "source": [
    "import pandas as pd\n",
    "pd.set_option('display.max_rows', 500)\n",
    "pd.set_option('display.max_columns', 500)\n",
    "pd.set_option('display.width', 1000)\n",
    "pd.set_option('display.max_colwidth', -1)"
   ]
  },
  {
   "cell_type": "code",
   "execution_count": 10,
   "metadata": {},
   "outputs": [],
   "source": [
    "data = pd.read_csv('D:/Download/quora-question-pairs/train.csv') \n",
    "data.head()\n",
    "data = data.iloc[:2000]\n",
    "data = data[data.apply(lambda x: not (type(x['question1']) == float or type(x['question2']) == float), axis = 1)]"
   ]
  },
  {
   "cell_type": "code",
   "execution_count": 11,
   "metadata": {},
   "outputs": [
    {
     "data": {
      "text/html": [
       "<div>\n",
       "<style scoped>\n",
       "    .dataframe tbody tr th:only-of-type {\n",
       "        vertical-align: middle;\n",
       "    }\n",
       "\n",
       "    .dataframe tbody tr th {\n",
       "        vertical-align: top;\n",
       "    }\n",
       "\n",
       "    .dataframe thead th {\n",
       "        text-align: right;\n",
       "    }\n",
       "</style>\n",
       "<table border=\"1\" class=\"dataframe\">\n",
       "  <thead>\n",
       "    <tr style=\"text-align: right;\">\n",
       "      <th></th>\n",
       "      <th>id</th>\n",
       "      <th>qid1</th>\n",
       "      <th>qid2</th>\n",
       "      <th>question1</th>\n",
       "      <th>question2</th>\n",
       "      <th>is_duplicate</th>\n",
       "    </tr>\n",
       "  </thead>\n",
       "  <tbody>\n",
       "    <tr>\n",
       "      <td>0</td>\n",
       "      <td>0</td>\n",
       "      <td>1</td>\n",
       "      <td>2</td>\n",
       "      <td>What is the step by step guide to invest in share market in india?</td>\n",
       "      <td>What is the step by step guide to invest in share market?</td>\n",
       "      <td>0</td>\n",
       "    </tr>\n",
       "    <tr>\n",
       "      <td>1</td>\n",
       "      <td>1</td>\n",
       "      <td>3</td>\n",
       "      <td>4</td>\n",
       "      <td>What is the story of Kohinoor (Koh-i-Noor) Diamond?</td>\n",
       "      <td>What would happen if the Indian government stole the Kohinoor (Koh-i-Noor) diamond back?</td>\n",
       "      <td>0</td>\n",
       "    </tr>\n",
       "    <tr>\n",
       "      <td>2</td>\n",
       "      <td>2</td>\n",
       "      <td>5</td>\n",
       "      <td>6</td>\n",
       "      <td>How can I increase the speed of my internet connection while using a VPN?</td>\n",
       "      <td>How can Internet speed be increased by hacking through DNS?</td>\n",
       "      <td>0</td>\n",
       "    </tr>\n",
       "    <tr>\n",
       "      <td>3</td>\n",
       "      <td>3</td>\n",
       "      <td>7</td>\n",
       "      <td>8</td>\n",
       "      <td>Why am I mentally very lonely? How can I solve it?</td>\n",
       "      <td>Find the remainder when [math]23^{24}[/math] is divided by 24,23?</td>\n",
       "      <td>0</td>\n",
       "    </tr>\n",
       "    <tr>\n",
       "      <td>4</td>\n",
       "      <td>4</td>\n",
       "      <td>9</td>\n",
       "      <td>10</td>\n",
       "      <td>Which one dissolve in water quikly sugar, salt, methane and carbon di oxide?</td>\n",
       "      <td>Which fish would survive in salt water?</td>\n",
       "      <td>0</td>\n",
       "    </tr>\n",
       "    <tr>\n",
       "      <td>...</td>\n",
       "      <td>...</td>\n",
       "      <td>...</td>\n",
       "      <td>...</td>\n",
       "      <td>...</td>\n",
       "      <td>...</td>\n",
       "      <td>...</td>\n",
       "    </tr>\n",
       "    <tr>\n",
       "      <td>1995</td>\n",
       "      <td>1995</td>\n",
       "      <td>3969</td>\n",
       "      <td>3970</td>\n",
       "      <td>I am visiting Sri Lanka soonfor 9 days, how can I pick up Sri Lankan girls and have fun?</td>\n",
       "      <td>Do Indians hate Sri Lankans?</td>\n",
       "      <td>0</td>\n",
       "    </tr>\n",
       "    <tr>\n",
       "      <td>1996</td>\n",
       "      <td>1996</td>\n",
       "      <td>3971</td>\n",
       "      <td>3972</td>\n",
       "      <td>What are some good examples of 4 stanza poems?</td>\n",
       "      <td>What are some good Ilocano poems?</td>\n",
       "      <td>0</td>\n",
       "    </tr>\n",
       "    <tr>\n",
       "      <td>1997</td>\n",
       "      <td>1997</td>\n",
       "      <td>3973</td>\n",
       "      <td>3974</td>\n",
       "      <td>Which CPU is better I3 4th Gen or 6th Gen?</td>\n",
       "      <td>Which is better intel i5 (6th gen) or i7 (5th gen)?</td>\n",
       "      <td>0</td>\n",
       "    </tr>\n",
       "    <tr>\n",
       "      <td>1998</td>\n",
       "      <td>1998</td>\n",
       "      <td>3975</td>\n",
       "      <td>3976</td>\n",
       "      <td>What are some of the best tourist places to visit in Chhattisgarh?</td>\n",
       "      <td>Where are the foremost tourist places in Chhattisgarh?</td>\n",
       "      <td>1</td>\n",
       "    </tr>\n",
       "    <tr>\n",
       "      <td>1999</td>\n",
       "      <td>1999</td>\n",
       "      <td>3977</td>\n",
       "      <td>3978</td>\n",
       "      <td>What are the differences between a love marriage and an arranged marriage?</td>\n",
       "      <td>Which is better: an arranged marriage or a love marriage?</td>\n",
       "      <td>0</td>\n",
       "    </tr>\n",
       "  </tbody>\n",
       "</table>\n",
       "<p>2000 rows × 6 columns</p>\n",
       "</div>"
      ],
      "text/plain": [
       "        id  qid1  qid2                                                                                 question1                                                                                 question2  is_duplicate\n",
       "0     0     1     2     What is the step by step guide to invest in share market in india?                        What is the step by step guide to invest in share market?                                 0           \n",
       "1     1     3     4     What is the story of Kohinoor (Koh-i-Noor) Diamond?                                       What would happen if the Indian government stole the Kohinoor (Koh-i-Noor) diamond back?  0           \n",
       "2     2     5     6     How can I increase the speed of my internet connection while using a VPN?                 How can Internet speed be increased by hacking through DNS?                               0           \n",
       "3     3     7     8     Why am I mentally very lonely? How can I solve it?                                        Find the remainder when [math]23^{24}[/math] is divided by 24,23?                         0           \n",
       "4     4     9     10    Which one dissolve in water quikly sugar, salt, methane and carbon di oxide?              Which fish would survive in salt water?                                                   0           \n",
       "...  ..    ..     ..                                                                             ...                                                  ...                                                  ..           \n",
       "1995  1995  3969  3970  I am visiting Sri Lanka soonfor 9 days, how can I pick up Sri Lankan girls and have fun?  Do Indians hate Sri Lankans?                                                              0           \n",
       "1996  1996  3971  3972  What are some good examples of 4 stanza poems?                                            What are some good Ilocano poems?                                                         0           \n",
       "1997  1997  3973  3974  Which CPU is better I3 4th Gen or 6th Gen?                                                Which is better intel i5 (6th gen) or i7 (5th gen)?                                       0           \n",
       "1998  1998  3975  3976  What are some of the best tourist places to visit in Chhattisgarh?                        Where are the foremost tourist places in Chhattisgarh?                                    1           \n",
       "1999  1999  3977  3978  What are the differences between a love marriage and an arranged marriage?                Which is better: an arranged marriage or a love marriage?                                 0           \n",
       "\n",
       "[2000 rows x 6 columns]"
      ]
     },
     "execution_count": 11,
     "metadata": {},
     "output_type": "execute_result"
    }
   ],
   "source": [
    "data"
   ]
  },
  {
   "cell_type": "markdown",
   "metadata": {},
   "source": [
    "```First we would like to extract features regarding a single question. In order to do so, first create a dataset containing  all the questions (and their id. why should we remember the id?), without duplicates. Name it 'questions'.```"
   ]
  },
  {
   "cell_type": "code",
   "execution_count": 46,
   "metadata": {},
   "outputs": [],
   "source": [
    "q1 = data[['qid1','question1']].rename(columns={'question1' : 'question' ,'qid1':'qID' })\n",
    "q2 = data[['qid2','question2']].rename(columns={'question2' : 'question' ,'qid2':'qID'})"
   ]
  },
  {
   "cell_type": "code",
   "execution_count": 47,
   "metadata": {},
   "outputs": [],
   "source": [
    "df_union= pd.concat([q1, q2]).drop_duplicates()\n",
    "df_union['question'] = df_union['question'].str.lower() #low case"
   ]
  },
  {
   "cell_type": "code",
   "execution_count": 48,
   "metadata": {},
   "outputs": [
    {
     "data": {
      "text/html": [
       "<div>\n",
       "<style scoped>\n",
       "    .dataframe tbody tr th:only-of-type {\n",
       "        vertical-align: middle;\n",
       "    }\n",
       "\n",
       "    .dataframe tbody tr th {\n",
       "        vertical-align: top;\n",
       "    }\n",
       "\n",
       "    .dataframe thead th {\n",
       "        text-align: right;\n",
       "    }\n",
       "</style>\n",
       "<table border=\"1\" class=\"dataframe\">\n",
       "  <thead>\n",
       "    <tr style=\"text-align: right;\">\n",
       "      <th></th>\n",
       "      <th>qID</th>\n",
       "      <th>question</th>\n",
       "    </tr>\n",
       "  </thead>\n",
       "  <tbody>\n",
       "    <tr>\n",
       "      <td>0</td>\n",
       "      <td>1</td>\n",
       "      <td>what is the step by step guide to invest in share market in india?</td>\n",
       "    </tr>\n",
       "    <tr>\n",
       "      <td>1</td>\n",
       "      <td>3</td>\n",
       "      <td>what is the story of kohinoor (koh-i-noor) diamond?</td>\n",
       "    </tr>\n",
       "    <tr>\n",
       "      <td>2</td>\n",
       "      <td>5</td>\n",
       "      <td>how can i increase the speed of my internet connection while using a vpn?</td>\n",
       "    </tr>\n",
       "    <tr>\n",
       "      <td>3</td>\n",
       "      <td>7</td>\n",
       "      <td>why am i mentally very lonely? how can i solve it?</td>\n",
       "    </tr>\n",
       "    <tr>\n",
       "      <td>4</td>\n",
       "      <td>9</td>\n",
       "      <td>which one dissolve in water quikly sugar, salt, methane and carbon di oxide?</td>\n",
       "    </tr>\n",
       "    <tr>\n",
       "      <td>...</td>\n",
       "      <td>...</td>\n",
       "      <td>...</td>\n",
       "    </tr>\n",
       "    <tr>\n",
       "      <td>1995</td>\n",
       "      <td>3970</td>\n",
       "      <td>do indians hate sri lankans?</td>\n",
       "    </tr>\n",
       "    <tr>\n",
       "      <td>1996</td>\n",
       "      <td>3972</td>\n",
       "      <td>what are some good ilocano poems?</td>\n",
       "    </tr>\n",
       "    <tr>\n",
       "      <td>1997</td>\n",
       "      <td>3974</td>\n",
       "      <td>which is better intel i5 (6th gen) or i7 (5th gen)?</td>\n",
       "    </tr>\n",
       "    <tr>\n",
       "      <td>1998</td>\n",
       "      <td>3976</td>\n",
       "      <td>where are the foremost tourist places in chhattisgarh?</td>\n",
       "    </tr>\n",
       "    <tr>\n",
       "      <td>1999</td>\n",
       "      <td>3978</td>\n",
       "      <td>which is better: an arranged marriage or a love marriage?</td>\n",
       "    </tr>\n",
       "  </tbody>\n",
       "</table>\n",
       "<p>3978 rows × 2 columns</p>\n",
       "</div>"
      ],
      "text/plain": [
       "       qID                                                                      question\n",
       "0     1     what is the step by step guide to invest in share market in india?          \n",
       "1     3     what is the story of kohinoor (koh-i-noor) diamond?                         \n",
       "2     5     how can i increase the speed of my internet connection while using a vpn?   \n",
       "3     7     why am i mentally very lonely? how can i solve it?                          \n",
       "4     9     which one dissolve in water quikly sugar, salt, methane and carbon di oxide?\n",
       "...  ..                                                                              ...\n",
       "1995  3970  do indians hate sri lankans?                                                \n",
       "1996  3972  what are some good ilocano poems?                                           \n",
       "1997  3974  which is better intel i5 (6th gen) or i7 (5th gen)?                         \n",
       "1998  3976  where are the foremost tourist places in chhattisgarh?                      \n",
       "1999  3978  which is better: an arranged marriage or a love marriage?                   \n",
       "\n",
       "[3978 rows x 2 columns]"
      ]
     },
     "execution_count": 48,
     "metadata": {},
     "output_type": "execute_result"
    }
   ],
   "source": [
    "df_union"
   ]
  },
  {
   "cell_type": "markdown",
   "metadata": {},
   "source": [
    "``` Add a column containing the questions, tokenized using twt_tokenizer, the TweetTokenizer object we created earlier. Name it 'question_sep'. Make sure that you treat the questions in lower case.```"
   ]
  },
  {
   "cell_type": "code",
   "execution_count": 49,
   "metadata": {},
   "outputs": [],
   "source": [
    "df_union['question_sep'] = df_union.apply(lambda x: twt_tokenizer.tokenize(x['question']) , axis=1 )"
   ]
  },
  {
   "cell_type": "code",
   "execution_count": 50,
   "metadata": {},
   "outputs": [
    {
     "data": {
      "text/html": [
       "<div>\n",
       "<style scoped>\n",
       "    .dataframe tbody tr th:only-of-type {\n",
       "        vertical-align: middle;\n",
       "    }\n",
       "\n",
       "    .dataframe tbody tr th {\n",
       "        vertical-align: top;\n",
       "    }\n",
       "\n",
       "    .dataframe thead th {\n",
       "        text-align: right;\n",
       "    }\n",
       "</style>\n",
       "<table border=\"1\" class=\"dataframe\">\n",
       "  <thead>\n",
       "    <tr style=\"text-align: right;\">\n",
       "      <th></th>\n",
       "      <th>qID</th>\n",
       "      <th>question</th>\n",
       "      <th>question_sep</th>\n",
       "    </tr>\n",
       "  </thead>\n",
       "  <tbody>\n",
       "    <tr>\n",
       "      <td>0</td>\n",
       "      <td>1</td>\n",
       "      <td>what is the step by step guide to invest in share market in india?</td>\n",
       "      <td>[what, is, the, step, by, step, guide, to, invest, in, share, market, in, india, ?]</td>\n",
       "    </tr>\n",
       "    <tr>\n",
       "      <td>1</td>\n",
       "      <td>3</td>\n",
       "      <td>what is the story of kohinoor (koh-i-noor) diamond?</td>\n",
       "      <td>[what, is, the, story, of, kohinoor, (, koh-i-noor, ), diamond, ?]</td>\n",
       "    </tr>\n",
       "    <tr>\n",
       "      <td>2</td>\n",
       "      <td>5</td>\n",
       "      <td>how can i increase the speed of my internet connection while using a vpn?</td>\n",
       "      <td>[how, can, i, increase, the, speed, of, my, internet, connection, while, using, a, vpn, ?]</td>\n",
       "    </tr>\n",
       "    <tr>\n",
       "      <td>3</td>\n",
       "      <td>7</td>\n",
       "      <td>why am i mentally very lonely? how can i solve it?</td>\n",
       "      <td>[why, am, i, mentally, very, lonely, ?, how, can, i, solve, it, ?]</td>\n",
       "    </tr>\n",
       "    <tr>\n",
       "      <td>4</td>\n",
       "      <td>9</td>\n",
       "      <td>which one dissolve in water quikly sugar, salt, methane and carbon di oxide?</td>\n",
       "      <td>[which, one, dissolve, in, water, quikly, sugar, ,, salt, ,, methane, and, carbon, di, oxide, ?]</td>\n",
       "    </tr>\n",
       "    <tr>\n",
       "      <td>...</td>\n",
       "      <td>...</td>\n",
       "      <td>...</td>\n",
       "      <td>...</td>\n",
       "    </tr>\n",
       "    <tr>\n",
       "      <td>1995</td>\n",
       "      <td>3970</td>\n",
       "      <td>do indians hate sri lankans?</td>\n",
       "      <td>[do, indians, hate, sri, lankans, ?]</td>\n",
       "    </tr>\n",
       "    <tr>\n",
       "      <td>1996</td>\n",
       "      <td>3972</td>\n",
       "      <td>what are some good ilocano poems?</td>\n",
       "      <td>[what, are, some, good, ilocano, poems, ?]</td>\n",
       "    </tr>\n",
       "    <tr>\n",
       "      <td>1997</td>\n",
       "      <td>3974</td>\n",
       "      <td>which is better intel i5 (6th gen) or i7 (5th gen)?</td>\n",
       "      <td>[which, is, better, intel, i5, (, 6th, gen, ), or, i7, (, 5th, gen, ), ?]</td>\n",
       "    </tr>\n",
       "    <tr>\n",
       "      <td>1998</td>\n",
       "      <td>3976</td>\n",
       "      <td>where are the foremost tourist places in chhattisgarh?</td>\n",
       "      <td>[where, are, the, foremost, tourist, places, in, chhattisgarh, ?]</td>\n",
       "    </tr>\n",
       "    <tr>\n",
       "      <td>1999</td>\n",
       "      <td>3978</td>\n",
       "      <td>which is better: an arranged marriage or a love marriage?</td>\n",
       "      <td>[which, is, better, :, an, arranged, marriage, or, a, love, marriage, ?]</td>\n",
       "    </tr>\n",
       "  </tbody>\n",
       "</table>\n",
       "<p>3978 rows × 3 columns</p>\n",
       "</div>"
      ],
      "text/plain": [
       "       qID                                                                      question                                                                                      question_sep\n",
       "0     1     what is the step by step guide to invest in share market in india?            [what, is, the, step, by, step, guide, to, invest, in, share, market, in, india, ?]             \n",
       "1     3     what is the story of kohinoor (koh-i-noor) diamond?                           [what, is, the, story, of, kohinoor, (, koh-i-noor, ), diamond, ?]                              \n",
       "2     5     how can i increase the speed of my internet connection while using a vpn?     [how, can, i, increase, the, speed, of, my, internet, connection, while, using, a, vpn, ?]      \n",
       "3     7     why am i mentally very lonely? how can i solve it?                            [why, am, i, mentally, very, lonely, ?, how, can, i, solve, it, ?]                              \n",
       "4     9     which one dissolve in water quikly sugar, salt, methane and carbon di oxide?  [which, one, dissolve, in, water, quikly, sugar, ,, salt, ,, methane, and, carbon, di, oxide, ?]\n",
       "...  ..                                                                              ...                                                                                               ...\n",
       "1995  3970  do indians hate sri lankans?                                                  [do, indians, hate, sri, lankans, ?]                                                            \n",
       "1996  3972  what are some good ilocano poems?                                             [what, are, some, good, ilocano, poems, ?]                                                      \n",
       "1997  3974  which is better intel i5 (6th gen) or i7 (5th gen)?                           [which, is, better, intel, i5, (, 6th, gen, ), or, i7, (, 5th, gen, ), ?]                       \n",
       "1998  3976  where are the foremost tourist places in chhattisgarh?                        [where, are, the, foremost, tourist, places, in, chhattisgarh, ?]                               \n",
       "1999  3978  which is better: an arranged marriage or a love marriage?                     [which, is, better, :, an, arranged, marriage, or, a, love, marriage, ?]                        \n",
       "\n",
       "[3978 rows x 3 columns]"
      ]
     },
     "execution_count": 50,
     "metadata": {},
     "output_type": "execute_result"
    }
   ],
   "source": [
    "df_union"
   ]
  },
  {
   "cell_type": "markdown",
   "metadata": {},
   "source": [
    "```Create an empty list called 'question_features_for_future_use'. We are going to befoul the questions dataframe, so we will want to remember which of its columns are important to us and which are just columns helping us to create other columns.```\n",
    "```Next, I will ask you to create some features. Whenever I use this sign: (*), know that you have to add the feature name to the list.```"
   ]
  },
  {
   "cell_type": "code",
   "execution_count": 51,
   "metadata": {},
   "outputs": [],
   "source": [
    "question_features_for_future_use = []"
   ]
  },
  {
   "cell_type": "markdown",
   "metadata": {},
   "source": [
    "```Before we start computing features, write a function that gets a column name and saves a csv file with 2 columns: qid and the column chosen. Name it 'save_feature' and make sure you use it after every feature computed, since it might be very very important for later parts of the exercise and your life.```\n",
    "\n",
    "```Save the features in the resources/features/<col_name>.csv .```\n",
    "\n",
    "```use os.path and os.getcwd().```"
   ]
  },
  {
   "cell_type": "code",
   "execution_count": 52,
   "metadata": {},
   "outputs": [],
   "source": [
    "def save_col_toCSV(col_name):\n",
    "    df_union.to_csv(index=False , columns=['qID' , col_name] , path_or_buf='resources/features/' + col_name + '.csv' )"
   ]
  },
  {
   "cell_type": "markdown",
   "metadata": {},
   "source": [
    "```Compute the following:```\n",
    "- ```Counter of the word part of speech (use collections.Counter and pos_tag, which we imported earlier. do it using one line). (*)```\n",
    "- ```number of different numbers appearing in the question\n",
    "(numbers, not digits. use regex. don't count words like 'one') (one line). (*)```\n",
    "- ```number of words in a question (one line). (*)```\n",
    "- ```length of longest word (one line). (*)```\n",
    "- ```word2vec mean of the question. (*)```"
   ]
  },
  {
   "cell_type": "code",
   "execution_count": 54,
   "metadata": {},
   "outputs": [
    {
     "name": "stderr",
     "output_type": "stream",
     "text": [
      "[nltk_data] Downloading package punkt to\n",
      "[nltk_data]     C:\\Users\\Melody\\AppData\\Roaming\\nltk_data...\n",
      "[nltk_data]   Package punkt is already up-to-date!\n",
      "[nltk_data] Downloading package averaged_perceptron_tagger to\n",
      "[nltk_data]     C:\\Users\\Melody\\AppData\\Roaming\\nltk_data...\n",
      "[nltk_data]   Package averaged_perceptron_tagger is already up-to-\n",
      "[nltk_data]       date!\n"
     ]
    },
    {
     "data": {
      "text/plain": [
       "True"
      ]
     },
     "execution_count": 54,
     "metadata": {},
     "output_type": "execute_result"
    }
   ],
   "source": [
    "from nltk.tokenize import word_tokenize\n",
    "import nltk\n",
    "nltk.download('punkt')\n",
    "nltk.download('averaged_perceptron_tagger')"
   ]
  },
  {
   "cell_type": "code",
   "execution_count": 55,
   "metadata": {},
   "outputs": [],
   "source": [
    "df_union['part_of_speech_counter'] = df_union.apply(lambda x : Counter([j for i,j in pos_tag(word_tokenize(x['question']))]) , axis=1)\n",
    "question_features_for_future_use.append('part_of_speech_counter') # (*)"
   ]
  },
  {
   "cell_type": "code",
   "execution_count": 78,
   "metadata": {},
   "outputs": [],
   "source": [
    "df_union['number_of_numbers'] = df_union.apply(lambda x : len([int(word) for word in x['question'].split(sep=' ') if word.isdigit()]) , axis=1)\n",
    "question_features_for_future_use.append('number_of_numbers') # (*)"
   ]
  },
  {
   "cell_type": "code",
   "execution_count": 87,
   "metadata": {},
   "outputs": [],
   "source": [
    "df_union['number_of_words'] = df_union.apply(lambda x: len(x['question_sep']) - 1 , axis=1) #minus 1 beacuse i dont want to count the question mark.\n",
    "question_features_for_future_use.append('number_of_words') # (*)"
   ]
  },
  {
   "cell_type": "code",
   "execution_count": 100,
   "metadata": {},
   "outputs": [],
   "source": [
    "df_union['length_of_longest_word'] =df_union['question_sep'].apply(lambda x: max(len(s) for s in x))\n",
    "question_features_for_future_use.append('length_of_longest_word') # (*)"
   ]
  },
  {
   "cell_type": "code",
   "execution_count": 114,
   "metadata": {},
   "outputs": [
    {
     "data": {
      "text/html": [
       "<div>\n",
       "<style scoped>\n",
       "    .dataframe tbody tr th:only-of-type {\n",
       "        vertical-align: middle;\n",
       "    }\n",
       "\n",
       "    .dataframe tbody tr th {\n",
       "        vertical-align: top;\n",
       "    }\n",
       "\n",
       "    .dataframe thead th {\n",
       "        text-align: right;\n",
       "    }\n",
       "</style>\n",
       "<table border=\"1\" class=\"dataframe\">\n",
       "  <thead>\n",
       "    <tr style=\"text-align: right;\">\n",
       "      <th></th>\n",
       "      <th>qID</th>\n",
       "      <th>question</th>\n",
       "      <th>question_sep</th>\n",
       "      <th>part_of_speech_counter</th>\n",
       "      <th>number_of_numbers</th>\n",
       "      <th>number_of_words</th>\n",
       "      <th>length_of_longest_word</th>\n",
       "    </tr>\n",
       "  </thead>\n",
       "  <tbody>\n",
       "    <tr>\n",
       "      <td>0</td>\n",
       "      <td>1</td>\n",
       "      <td>what is the step by step guide to invest in share market in india?</td>\n",
       "      <td>[what, is, the, step, by, step, guide, to, invest, in, share, market, in, india, ?]</td>\n",
       "      <td>{'WP': 1, 'VBZ': 1, 'DT': 1, 'NN': 5, 'IN': 3, 'RB': 1, 'TO': 1, 'VB': 1, '.': 1}</td>\n",
       "      <td>0</td>\n",
       "      <td>14</td>\n",
       "      <td>6</td>\n",
       "    </tr>\n",
       "    <tr>\n",
       "      <td>1</td>\n",
       "      <td>3</td>\n",
       "      <td>what is the story of kohinoor (koh-i-noor) diamond?</td>\n",
       "      <td>[what, is, the, story, of, kohinoor, (, koh-i-noor, ), diamond, ?]</td>\n",
       "      <td>{'WP': 1, 'VBZ': 1, 'DT': 1, 'NN': 3, 'IN': 1, '(': 1, 'JJ': 1, ')': 1, '.': 1}</td>\n",
       "      <td>0</td>\n",
       "      <td>10</td>\n",
       "      <td>10</td>\n",
       "    </tr>\n",
       "    <tr>\n",
       "      <td>2</td>\n",
       "      <td>5</td>\n",
       "      <td>how can i increase the speed of my internet connection while using a vpn?</td>\n",
       "      <td>[how, can, i, increase, the, speed, of, my, internet, connection, while, using, a, vpn, ?]</td>\n",
       "      <td>{'WRB': 1, 'MD': 1, 'VB': 2, 'DT': 2, 'NN': 3, 'IN': 2, 'PRP$': 1, 'JJ': 1, 'VBG': 1, '.': 1}</td>\n",
       "      <td>0</td>\n",
       "      <td>14</td>\n",
       "      <td>10</td>\n",
       "    </tr>\n",
       "    <tr>\n",
       "      <td>3</td>\n",
       "      <td>7</td>\n",
       "      <td>why am i mentally very lonely? how can i solve it?</td>\n",
       "      <td>[why, am, i, mentally, very, lonely, ?, how, can, i, solve, it, ?]</td>\n",
       "      <td>{'WRB': 2, 'VBP': 1, 'JJ': 1, 'RB': 3, '.': 2, 'MD': 1, 'VB': 2, 'PRP': 1}</td>\n",
       "      <td>0</td>\n",
       "      <td>12</td>\n",
       "      <td>8</td>\n",
       "    </tr>\n",
       "    <tr>\n",
       "      <td>4</td>\n",
       "      <td>9</td>\n",
       "      <td>which one dissolve in water quikly sugar, salt, methane and carbon di oxide?</td>\n",
       "      <td>[which, one, dissolve, in, water, quikly, sugar, ,, salt, ,, methane, and, carbon, di, oxide, ?]</td>\n",
       "      <td>{'WDT': 1, 'CD': 1, 'NN': 8, 'IN': 2, ',': 2, 'CC': 1, '.': 1}</td>\n",
       "      <td>0</td>\n",
       "      <td>15</td>\n",
       "      <td>8</td>\n",
       "    </tr>\n",
       "    <tr>\n",
       "      <td>...</td>\n",
       "      <td>...</td>\n",
       "      <td>...</td>\n",
       "      <td>...</td>\n",
       "      <td>...</td>\n",
       "      <td>...</td>\n",
       "      <td>...</td>\n",
       "      <td>...</td>\n",
       "    </tr>\n",
       "    <tr>\n",
       "      <td>1995</td>\n",
       "      <td>3970</td>\n",
       "      <td>do indians hate sri lankans?</td>\n",
       "      <td>[do, indians, hate, sri, lankans, ?]</td>\n",
       "      <td>{'VBP': 1, 'NNS': 3, 'VB': 1, '.': 1}</td>\n",
       "      <td>0</td>\n",
       "      <td>5</td>\n",
       "      <td>7</td>\n",
       "    </tr>\n",
       "    <tr>\n",
       "      <td>1996</td>\n",
       "      <td>3972</td>\n",
       "      <td>what are some good ilocano poems?</td>\n",
       "      <td>[what, are, some, good, ilocano, poems, ?]</td>\n",
       "      <td>{'WDT': 1, 'VBP': 1, 'DT': 1, 'JJ': 1, 'NN': 1, 'NNS': 1, '.': 1}</td>\n",
       "      <td>0</td>\n",
       "      <td>6</td>\n",
       "      <td>7</td>\n",
       "    </tr>\n",
       "    <tr>\n",
       "      <td>1997</td>\n",
       "      <td>3974</td>\n",
       "      <td>which is better intel i5 (6th gen) or i7 (5th gen)?</td>\n",
       "      <td>[which, is, better, intel, i5, (, 6th, gen, ), or, i7, (, 5th, gen, ), ?]</td>\n",
       "      <td>{'WDT': 1, 'VBZ': 1, 'RBR': 1, 'NN': 5, '(': 2, 'CD': 2, ')': 2, 'CC': 1, '.': 1}</td>\n",
       "      <td>0</td>\n",
       "      <td>15</td>\n",
       "      <td>6</td>\n",
       "    </tr>\n",
       "    <tr>\n",
       "      <td>1998</td>\n",
       "      <td>3976</td>\n",
       "      <td>where are the foremost tourist places in chhattisgarh?</td>\n",
       "      <td>[where, are, the, foremost, tourist, places, in, chhattisgarh, ?]</td>\n",
       "      <td>{'WRB': 1, 'VBP': 1, 'DT': 1, 'JJ': 1, 'NN': 2, 'NNS': 1, 'IN': 1, '.': 1}</td>\n",
       "      <td>0</td>\n",
       "      <td>8</td>\n",
       "      <td>12</td>\n",
       "    </tr>\n",
       "    <tr>\n",
       "      <td>1999</td>\n",
       "      <td>3978</td>\n",
       "      <td>which is better: an arranged marriage or a love marriage?</td>\n",
       "      <td>[which, is, better, :, an, arranged, marriage, or, a, love, marriage, ?]</td>\n",
       "      <td>{'WDT': 1, 'VBZ': 1, 'RBR': 1, ':': 1, 'DT': 2, 'JJ': 1, 'NN': 3, 'CC': 1, '.': 1}</td>\n",
       "      <td>0</td>\n",
       "      <td>11</td>\n",
       "      <td>8</td>\n",
       "    </tr>\n",
       "  </tbody>\n",
       "</table>\n",
       "<p>3978 rows × 7 columns</p>\n",
       "</div>"
      ],
      "text/plain": [
       "       qID                                                                      question                                                                                      question_sep                                                                         part_of_speech_counter  number_of_numbers  number_of_words  length_of_longest_word\n",
       "0     1     what is the step by step guide to invest in share market in india?            [what, is, the, step, by, step, guide, to, invest, in, share, market, in, india, ?]               {'WP': 1, 'VBZ': 1, 'DT': 1, 'NN': 5, 'IN': 3, 'RB': 1, 'TO': 1, 'VB': 1, '.': 1}              0                  14               6                     \n",
       "1     3     what is the story of kohinoor (koh-i-noor) diamond?                           [what, is, the, story, of, kohinoor, (, koh-i-noor, ), diamond, ?]                                {'WP': 1, 'VBZ': 1, 'DT': 1, 'NN': 3, 'IN': 1, '(': 1, 'JJ': 1, ')': 1, '.': 1}                0                  10               10                    \n",
       "2     5     how can i increase the speed of my internet connection while using a vpn?     [how, can, i, increase, the, speed, of, my, internet, connection, while, using, a, vpn, ?]        {'WRB': 1, 'MD': 1, 'VB': 2, 'DT': 2, 'NN': 3, 'IN': 2, 'PRP$': 1, 'JJ': 1, 'VBG': 1, '.': 1}  0                  14               10                    \n",
       "3     7     why am i mentally very lonely? how can i solve it?                            [why, am, i, mentally, very, lonely, ?, how, can, i, solve, it, ?]                                {'WRB': 2, 'VBP': 1, 'JJ': 1, 'RB': 3, '.': 2, 'MD': 1, 'VB': 2, 'PRP': 1}                     0                  12               8                     \n",
       "4     9     which one dissolve in water quikly sugar, salt, methane and carbon di oxide?  [which, one, dissolve, in, water, quikly, sugar, ,, salt, ,, methane, and, carbon, di, oxide, ?]  {'WDT': 1, 'CD': 1, 'NN': 8, 'IN': 2, ',': 2, 'CC': 1, '.': 1}                                 0                  15               8                     \n",
       "...  ..                                                                              ...                                                                                               ...                                                             ...                                ..                  ..              ..                     \n",
       "1995  3970  do indians hate sri lankans?                                                  [do, indians, hate, sri, lankans, ?]                                                              {'VBP': 1, 'NNS': 3, 'VB': 1, '.': 1}                                                          0                  5                7                     \n",
       "1996  3972  what are some good ilocano poems?                                             [what, are, some, good, ilocano, poems, ?]                                                        {'WDT': 1, 'VBP': 1, 'DT': 1, 'JJ': 1, 'NN': 1, 'NNS': 1, '.': 1}                              0                  6                7                     \n",
       "1997  3974  which is better intel i5 (6th gen) or i7 (5th gen)?                           [which, is, better, intel, i5, (, 6th, gen, ), or, i7, (, 5th, gen, ), ?]                         {'WDT': 1, 'VBZ': 1, 'RBR': 1, 'NN': 5, '(': 2, 'CD': 2, ')': 2, 'CC': 1, '.': 1}              0                  15               6                     \n",
       "1998  3976  where are the foremost tourist places in chhattisgarh?                        [where, are, the, foremost, tourist, places, in, chhattisgarh, ?]                                 {'WRB': 1, 'VBP': 1, 'DT': 1, 'JJ': 1, 'NN': 2, 'NNS': 1, 'IN': 1, '.': 1}                     0                  8                12                    \n",
       "1999  3978  which is better: an arranged marriage or a love marriage?                     [which, is, better, :, an, arranged, marriage, or, a, love, marriage, ?]                          {'WDT': 1, 'VBZ': 1, 'RBR': 1, ':': 1, 'DT': 2, 'JJ': 1, 'NN': 3, 'CC': 1, '.': 1}             0                  11               8                     \n",
       "\n",
       "[3978 rows x 7 columns]"
      ]
     },
     "execution_count": 114,
     "metadata": {},
     "output_type": "execute_result"
    }
   ],
   "source": [
    "df_union"
   ]
  },
  {
   "cell_type": "code",
   "execution_count": 171,
   "metadata": {},
   "outputs": [],
   "source": [
    "word2vec.wv[df_union.iloc[0]['question_sep'][8]]"
   ]
  },
  {
   "cell_type": "code",
   "execution_count": 190,
   "metadata": {},
   "outputs": [],
   "source": [
    "def word2vec_mean_of_question(row):\n",
    "    sum_vector =0\n",
    "    count =0\n",
    "    for i in row['question_sep']:\n",
    "              if i in (word2vec.vocab.keys()):\n",
    "                sum_vector = sum_vector + word2vec.wv[i]\n",
    "                count = count + 1\n",
    "\n",
    "    avg_vec = sum_vector / count\n",
    "    return word2vec.most_similar(positive=[avg_vec], topn=1)"
   ]
  },
  {
   "cell_type": "code",
   "execution_count": null,
   "metadata": {},
   "outputs": [],
   "source": []
  },
  {
   "cell_type": "code",
   "execution_count": 231,
   "metadata": {},
   "outputs": [
    {
     "name": "stderr",
     "output_type": "stream",
     "text": [
      "C:\\ProgramData\\Anaconda3\\lib\\site-packages\\ipykernel_launcher.py:6: DeprecationWarning: Call to deprecated `wv` (Attribute will be removed in 4.0.0, use self instead).\n",
      "  \n"
     ]
    }
   ],
   "source": [
    "df_union['word2vec_mean_of_question']=df_union.apply(word2vec_mean_of_question , axis=1).apply(lambda x : [y[0] for y in list(x)])"
   ]
  },
  {
   "cell_type": "code",
   "execution_count": 232,
   "metadata": {},
   "outputs": [],
   "source": [
    "df_union['word2vec_mean_of_question'] = df_union['word2vec_mean_of_question'].str.join(', ')\n",
    "question_features_for_future_use.append('word2vec_mean_of_question') # (*)"
   ]
  },
  {
   "cell_type": "code",
   "execution_count": 233,
   "metadata": {},
   "outputs": [
    {
     "data": {
      "text/plain": [
       "['part_of_speech_counter',\n",
       " 'number_of_numbers',\n",
       " 'number_of_words',\n",
       " 'length_of_longest_word',\n",
       " 'word2vec_mean_of_question',\n",
       " 'word2vec_mean_of_question',\n",
       " 'word2vec_mean_of_question']"
      ]
     },
     "execution_count": 233,
     "metadata": {},
     "output_type": "execute_result"
    }
   ],
   "source": [
    "question_features_for_future_use"
   ]
  },
  {
   "cell_type": "code",
   "execution_count": 234,
   "metadata": {},
   "outputs": [
    {
     "data": {
      "text/html": [
       "<div>\n",
       "<style scoped>\n",
       "    .dataframe tbody tr th:only-of-type {\n",
       "        vertical-align: middle;\n",
       "    }\n",
       "\n",
       "    .dataframe tbody tr th {\n",
       "        vertical-align: top;\n",
       "    }\n",
       "\n",
       "    .dataframe thead th {\n",
       "        text-align: right;\n",
       "    }\n",
       "</style>\n",
       "<table border=\"1\" class=\"dataframe\">\n",
       "  <thead>\n",
       "    <tr style=\"text-align: right;\">\n",
       "      <th></th>\n",
       "      <th>qID</th>\n",
       "      <th>question</th>\n",
       "      <th>question_sep</th>\n",
       "      <th>part_of_speech_counter</th>\n",
       "      <th>number_of_numbers</th>\n",
       "      <th>number_of_words</th>\n",
       "      <th>length_of_longest_word</th>\n",
       "      <th>word2vec_mean_of_question</th>\n",
       "    </tr>\n",
       "  </thead>\n",
       "  <tbody>\n",
       "    <tr>\n",
       "      <td>0</td>\n",
       "      <td>1</td>\n",
       "      <td>what is the step by step guide to invest in share market in india?</td>\n",
       "      <td>[what, is, the, step, by, step, guide, to, invest, in, share, market, in, india, ?]</td>\n",
       "      <td>{'WP': 1, 'VBZ': 1, 'DT': 1, 'NN': 5, 'IN': 3, 'RB': 1, 'TO': 1, 'VB': 1, '.': 1}</td>\n",
       "      <td>0</td>\n",
       "      <td>14</td>\n",
       "      <td>6</td>\n",
       "      <td>step</td>\n",
       "    </tr>\n",
       "    <tr>\n",
       "      <td>1</td>\n",
       "      <td>3</td>\n",
       "      <td>what is the story of kohinoor (koh-i-noor) diamond?</td>\n",
       "      <td>[what, is, the, story, of, kohinoor, (, koh-i-noor, ), diamond, ?]</td>\n",
       "      <td>{'WP': 1, 'VBZ': 1, 'DT': 1, 'NN': 3, 'IN': 1, '(': 1, 'JJ': 1, ')': 1, '.': 1}</td>\n",
       "      <td>0</td>\n",
       "      <td>10</td>\n",
       "      <td>10</td>\n",
       "      <td>diamond</td>\n",
       "    </tr>\n",
       "    <tr>\n",
       "      <td>2</td>\n",
       "      <td>5</td>\n",
       "      <td>how can i increase the speed of my internet connection while using a vpn?</td>\n",
       "      <td>[how, can, i, increase, the, speed, of, my, internet, connection, while, using, a, vpn, ?]</td>\n",
       "      <td>{'WRB': 1, 'MD': 1, 'VB': 2, 'DT': 2, 'NN': 3, 'IN': 2, 'PRP$': 1, 'JJ': 1, 'VBG': 1, '.': 1}</td>\n",
       "      <td>0</td>\n",
       "      <td>14</td>\n",
       "      <td>10</td>\n",
       "      <td>Earn_Rs.####_daily</td>\n",
       "    </tr>\n",
       "    <tr>\n",
       "      <td>3</td>\n",
       "      <td>7</td>\n",
       "      <td>why am i mentally very lonely? how can i solve it?</td>\n",
       "      <td>[why, am, i, mentally, very, lonely, ?, how, can, i, solve, it, ?]</td>\n",
       "      <td>{'WRB': 2, 'VBP': 1, 'JJ': 1, 'RB': 3, '.': 2, 'MD': 1, 'VB': 2, 'PRP': 1}</td>\n",
       "      <td>0</td>\n",
       "      <td>12</td>\n",
       "      <td>8</td>\n",
       "      <td>I</td>\n",
       "    </tr>\n",
       "    <tr>\n",
       "      <td>4</td>\n",
       "      <td>9</td>\n",
       "      <td>which one dissolve in water quikly sugar, salt, methane and carbon di oxide?</td>\n",
       "      <td>[which, one, dissolve, in, water, quikly, sugar, ,, salt, ,, methane, and, carbon, di, oxide, ?]</td>\n",
       "      <td>{'WDT': 1, 'CD': 1, 'NN': 8, 'IN': 2, ',': 2, 'CC': 1, '.': 1}</td>\n",
       "      <td>0</td>\n",
       "      <td>15</td>\n",
       "      <td>8</td>\n",
       "      <td>hydrous</td>\n",
       "    </tr>\n",
       "  </tbody>\n",
       "</table>\n",
       "</div>"
      ],
      "text/plain": [
       "   qID                                                                      question                                                                                      question_sep                                                                         part_of_speech_counter  number_of_numbers  number_of_words  length_of_longest_word word2vec_mean_of_question\n",
       "0  1    what is the step by step guide to invest in share market in india?            [what, is, the, step, by, step, guide, to, invest, in, share, market, in, india, ?]               {'WP': 1, 'VBZ': 1, 'DT': 1, 'NN': 5, 'IN': 3, 'RB': 1, 'TO': 1, 'VB': 1, '.': 1}              0                  14               6                       step                    \n",
       "1  3    what is the story of kohinoor (koh-i-noor) diamond?                           [what, is, the, story, of, kohinoor, (, koh-i-noor, ), diamond, ?]                                {'WP': 1, 'VBZ': 1, 'DT': 1, 'NN': 3, 'IN': 1, '(': 1, 'JJ': 1, ')': 1, '.': 1}                0                  10               10                      diamond                 \n",
       "2  5    how can i increase the speed of my internet connection while using a vpn?     [how, can, i, increase, the, speed, of, my, internet, connection, while, using, a, vpn, ?]        {'WRB': 1, 'MD': 1, 'VB': 2, 'DT': 2, 'NN': 3, 'IN': 2, 'PRP$': 1, 'JJ': 1, 'VBG': 1, '.': 1}  0                  14               10                      Earn_Rs.####_daily      \n",
       "3  7    why am i mentally very lonely? how can i solve it?                            [why, am, i, mentally, very, lonely, ?, how, can, i, solve, it, ?]                                {'WRB': 2, 'VBP': 1, 'JJ': 1, 'RB': 3, '.': 2, 'MD': 1, 'VB': 2, 'PRP': 1}                     0                  12               8                       I                       \n",
       "4  9    which one dissolve in water quikly sugar, salt, methane and carbon di oxide?  [which, one, dissolve, in, water, quikly, sugar, ,, salt, ,, methane, and, carbon, di, oxide, ?]  {'WDT': 1, 'CD': 1, 'NN': 8, 'IN': 2, ',': 2, 'CC': 1, '.': 1}                                 0                  15               8                       hydrous                 "
      ]
     },
     "execution_count": 234,
     "metadata": {},
     "output_type": "execute_result"
    }
   ],
   "source": [
    "df_union.head()"
   ]
  },
  {
   "cell_type": "markdown",
   "metadata": {},
   "source": [
    "- ```Counter of the question_words (one line). (*)```"
   ]
  },
  {
   "cell_type": "code",
   "execution_count": 248,
   "metadata": {},
   "outputs": [],
   "source": [
    "question_words = ['why', 'how', 'where', 'who', 'what', 'which', 'when', 'wheather']"
   ]
  },
  {
   "cell_type": "code",
   "execution_count": 283,
   "metadata": {},
   "outputs": [],
   "source": [
    "df_union['counter_question_words'] = df_union['question_sep'].apply(lambda x: sum(x.count(z) for z in question_words))\n",
    "question_features_for_future_use.append('counter_question_words') # (*)"
   ]
  },
  {
   "cell_type": "code",
   "execution_count": 286,
   "metadata": {},
   "outputs": [
    {
     "data": {
      "text/html": [
       "<div>\n",
       "<style scoped>\n",
       "    .dataframe tbody tr th:only-of-type {\n",
       "        vertical-align: middle;\n",
       "    }\n",
       "\n",
       "    .dataframe tbody tr th {\n",
       "        vertical-align: top;\n",
       "    }\n",
       "\n",
       "    .dataframe thead th {\n",
       "        text-align: right;\n",
       "    }\n",
       "</style>\n",
       "<table border=\"1\" class=\"dataframe\">\n",
       "  <thead>\n",
       "    <tr style=\"text-align: right;\">\n",
       "      <th></th>\n",
       "      <th>qID</th>\n",
       "      <th>question</th>\n",
       "      <th>question_sep</th>\n",
       "      <th>part_of_speech_counter</th>\n",
       "      <th>number_of_numbers</th>\n",
       "      <th>number_of_words</th>\n",
       "      <th>length_of_longest_word</th>\n",
       "      <th>word2vec_mean_of_question</th>\n",
       "      <th>counter_question_words</th>\n",
       "    </tr>\n",
       "  </thead>\n",
       "  <tbody>\n",
       "    <tr>\n",
       "      <td>0</td>\n",
       "      <td>1</td>\n",
       "      <td>what is the step by step guide to invest in share market in india?</td>\n",
       "      <td>[what, is, the, step, by, step, guide, to, invest, in, share, market, in, india, ?]</td>\n",
       "      <td>{'WP': 1, 'VBZ': 1, 'DT': 1, 'NN': 5, 'IN': 3, 'RB': 1, 'TO': 1, 'VB': 1, '.': 1}</td>\n",
       "      <td>0</td>\n",
       "      <td>14</td>\n",
       "      <td>6</td>\n",
       "      <td>step</td>\n",
       "      <td>1</td>\n",
       "    </tr>\n",
       "    <tr>\n",
       "      <td>1</td>\n",
       "      <td>3</td>\n",
       "      <td>what is the story of kohinoor (koh-i-noor) diamond?</td>\n",
       "      <td>[what, is, the, story, of, kohinoor, (, koh-i-noor, ), diamond, ?]</td>\n",
       "      <td>{'WP': 1, 'VBZ': 1, 'DT': 1, 'NN': 3, 'IN': 1, '(': 1, 'JJ': 1, ')': 1, '.': 1}</td>\n",
       "      <td>0</td>\n",
       "      <td>10</td>\n",
       "      <td>10</td>\n",
       "      <td>diamond</td>\n",
       "      <td>1</td>\n",
       "    </tr>\n",
       "    <tr>\n",
       "      <td>2</td>\n",
       "      <td>5</td>\n",
       "      <td>how can i increase the speed of my internet connection while using a vpn?</td>\n",
       "      <td>[how, can, i, increase, the, speed, of, my, internet, connection, while, using, a, vpn, ?]</td>\n",
       "      <td>{'WRB': 1, 'MD': 1, 'VB': 2, 'DT': 2, 'NN': 3, 'IN': 2, 'PRP$': 1, 'JJ': 1, 'VBG': 1, '.': 1}</td>\n",
       "      <td>0</td>\n",
       "      <td>14</td>\n",
       "      <td>10</td>\n",
       "      <td>Earn_Rs.####_daily</td>\n",
       "      <td>1</td>\n",
       "    </tr>\n",
       "    <tr>\n",
       "      <td>3</td>\n",
       "      <td>7</td>\n",
       "      <td>why am i mentally very lonely? how can i solve it?</td>\n",
       "      <td>[why, am, i, mentally, very, lonely, ?, how, can, i, solve, it, ?]</td>\n",
       "      <td>{'WRB': 2, 'VBP': 1, 'JJ': 1, 'RB': 3, '.': 2, 'MD': 1, 'VB': 2, 'PRP': 1}</td>\n",
       "      <td>0</td>\n",
       "      <td>12</td>\n",
       "      <td>8</td>\n",
       "      <td>I</td>\n",
       "      <td>2</td>\n",
       "    </tr>\n",
       "    <tr>\n",
       "      <td>4</td>\n",
       "      <td>9</td>\n",
       "      <td>which one dissolve in water quikly sugar, salt, methane and carbon di oxide?</td>\n",
       "      <td>[which, one, dissolve, in, water, quikly, sugar, ,, salt, ,, methane, and, carbon, di, oxide, ?]</td>\n",
       "      <td>{'WDT': 1, 'CD': 1, 'NN': 8, 'IN': 2, ',': 2, 'CC': 1, '.': 1}</td>\n",
       "      <td>0</td>\n",
       "      <td>15</td>\n",
       "      <td>8</td>\n",
       "      <td>hydrous</td>\n",
       "      <td>1</td>\n",
       "    </tr>\n",
       "    <tr>\n",
       "      <td>...</td>\n",
       "      <td>...</td>\n",
       "      <td>...</td>\n",
       "      <td>...</td>\n",
       "      <td>...</td>\n",
       "      <td>...</td>\n",
       "      <td>...</td>\n",
       "      <td>...</td>\n",
       "      <td>...</td>\n",
       "      <td>...</td>\n",
       "    </tr>\n",
       "    <tr>\n",
       "      <td>1995</td>\n",
       "      <td>3970</td>\n",
       "      <td>do indians hate sri lankans?</td>\n",
       "      <td>[do, indians, hate, sri, lankans, ?]</td>\n",
       "      <td>{'VBP': 1, 'NNS': 3, 'VB': 1, '.': 1}</td>\n",
       "      <td>0</td>\n",
       "      <td>5</td>\n",
       "      <td>7</td>\n",
       "      <td>indians</td>\n",
       "      <td>0</td>\n",
       "    </tr>\n",
       "    <tr>\n",
       "      <td>1996</td>\n",
       "      <td>3972</td>\n",
       "      <td>what are some good ilocano poems?</td>\n",
       "      <td>[what, are, some, good, ilocano, poems, ?]</td>\n",
       "      <td>{'WDT': 1, 'VBP': 1, 'DT': 1, 'JJ': 1, 'NN': 1, 'NNS': 1, '.': 1}</td>\n",
       "      <td>0</td>\n",
       "      <td>6</td>\n",
       "      <td>7</td>\n",
       "      <td>some</td>\n",
       "      <td>1</td>\n",
       "    </tr>\n",
       "    <tr>\n",
       "      <td>1997</td>\n",
       "      <td>3974</td>\n",
       "      <td>which is better intel i5 (6th gen) or i7 (5th gen)?</td>\n",
       "      <td>[which, is, better, intel, i5, (, 6th, gen, ), or, i7, (, 5th, gen, ), ?]</td>\n",
       "      <td>{'WDT': 1, 'VBZ': 1, 'RBR': 1, 'NN': 5, '(': 2, 'CD': 2, ')': 2, 'CC': 1, '.': 1}</td>\n",
       "      <td>0</td>\n",
       "      <td>15</td>\n",
       "      <td>6</td>\n",
       "      <td>gen</td>\n",
       "      <td>1</td>\n",
       "    </tr>\n",
       "    <tr>\n",
       "      <td>1998</td>\n",
       "      <td>3976</td>\n",
       "      <td>where are the foremost tourist places in chhattisgarh?</td>\n",
       "      <td>[where, are, the, foremost, tourist, places, in, chhattisgarh, ?]</td>\n",
       "      <td>{'WRB': 1, 'VBP': 1, 'DT': 1, 'JJ': 1, 'NN': 2, 'NNS': 1, 'IN': 1, '.': 1}</td>\n",
       "      <td>0</td>\n",
       "      <td>8</td>\n",
       "      <td>12</td>\n",
       "      <td>places</td>\n",
       "      <td>1</td>\n",
       "    </tr>\n",
       "    <tr>\n",
       "      <td>1999</td>\n",
       "      <td>3978</td>\n",
       "      <td>which is better: an arranged marriage or a love marriage?</td>\n",
       "      <td>[which, is, better, :, an, arranged, marriage, or, a, love, marriage, ?]</td>\n",
       "      <td>{'WDT': 1, 'VBZ': 1, 'RBR': 1, ':': 1, 'DT': 2, 'JJ': 1, 'NN': 3, 'CC': 1, '.': 1}</td>\n",
       "      <td>0</td>\n",
       "      <td>11</td>\n",
       "      <td>8</td>\n",
       "      <td>marriage</td>\n",
       "      <td>1</td>\n",
       "    </tr>\n",
       "  </tbody>\n",
       "</table>\n",
       "<p>3978 rows × 9 columns</p>\n",
       "</div>"
      ],
      "text/plain": [
       "       qID                                                                      question                                                                                      question_sep                                                                         part_of_speech_counter  number_of_numbers  number_of_words  length_of_longest_word word2vec_mean_of_question  counter_question_words\n",
       "0     1     what is the step by step guide to invest in share market in india?            [what, is, the, step, by, step, guide, to, invest, in, share, market, in, india, ?]               {'WP': 1, 'VBZ': 1, 'DT': 1, 'NN': 5, 'IN': 3, 'RB': 1, 'TO': 1, 'VB': 1, '.': 1}              0                  14               6                       step                      1                     \n",
       "1     3     what is the story of kohinoor (koh-i-noor) diamond?                           [what, is, the, story, of, kohinoor, (, koh-i-noor, ), diamond, ?]                                {'WP': 1, 'VBZ': 1, 'DT': 1, 'NN': 3, 'IN': 1, '(': 1, 'JJ': 1, ')': 1, '.': 1}                0                  10               10                      diamond                   1                     \n",
       "2     5     how can i increase the speed of my internet connection while using a vpn?     [how, can, i, increase, the, speed, of, my, internet, connection, while, using, a, vpn, ?]        {'WRB': 1, 'MD': 1, 'VB': 2, 'DT': 2, 'NN': 3, 'IN': 2, 'PRP$': 1, 'JJ': 1, 'VBG': 1, '.': 1}  0                  14               10                      Earn_Rs.####_daily        1                     \n",
       "3     7     why am i mentally very lonely? how can i solve it?                            [why, am, i, mentally, very, lonely, ?, how, can, i, solve, it, ?]                                {'WRB': 2, 'VBP': 1, 'JJ': 1, 'RB': 3, '.': 2, 'MD': 1, 'VB': 2, 'PRP': 1}                     0                  12               8                       I                         2                     \n",
       "4     9     which one dissolve in water quikly sugar, salt, methane and carbon di oxide?  [which, one, dissolve, in, water, quikly, sugar, ,, salt, ,, methane, and, carbon, di, oxide, ?]  {'WDT': 1, 'CD': 1, 'NN': 8, 'IN': 2, ',': 2, 'CC': 1, '.': 1}                                 0                  15               8                       hydrous                   1                     \n",
       "...  ..                                                                              ...                                                                                               ...                                                             ...                                ..                  ..              ..                           ...                  ..                     \n",
       "1995  3970  do indians hate sri lankans?                                                  [do, indians, hate, sri, lankans, ?]                                                              {'VBP': 1, 'NNS': 3, 'VB': 1, '.': 1}                                                          0                  5                7                       indians                   0                     \n",
       "1996  3972  what are some good ilocano poems?                                             [what, are, some, good, ilocano, poems, ?]                                                        {'WDT': 1, 'VBP': 1, 'DT': 1, 'JJ': 1, 'NN': 1, 'NNS': 1, '.': 1}                              0                  6                7                       some                      1                     \n",
       "1997  3974  which is better intel i5 (6th gen) or i7 (5th gen)?                           [which, is, better, intel, i5, (, 6th, gen, ), or, i7, (, 5th, gen, ), ?]                         {'WDT': 1, 'VBZ': 1, 'RBR': 1, 'NN': 5, '(': 2, 'CD': 2, ')': 2, 'CC': 1, '.': 1}              0                  15               6                       gen                       1                     \n",
       "1998  3976  where are the foremost tourist places in chhattisgarh?                        [where, are, the, foremost, tourist, places, in, chhattisgarh, ?]                                 {'WRB': 1, 'VBP': 1, 'DT': 1, 'JJ': 1, 'NN': 2, 'NNS': 1, 'IN': 1, '.': 1}                     0                  8                12                      places                    1                     \n",
       "1999  3978  which is better: an arranged marriage or a love marriage?                     [which, is, better, :, an, arranged, marriage, or, a, love, marriage, ?]                          {'WDT': 1, 'VBZ': 1, 'RBR': 1, ':': 1, 'DT': 2, 'JJ': 1, 'NN': 3, 'CC': 1, '.': 1}             0                  11               8                       marriage                  1                     \n",
       "\n",
       "[3978 rows x 9 columns]"
      ]
     },
     "execution_count": 286,
     "metadata": {},
     "output_type": "execute_result"
    }
   ],
   "source": [
    "df_union"
   ]
  },
  {
   "cell_type": "markdown",
   "metadata": {},
   "source": [
    "```We will now use tf-idf grade (if you aren't familiar with the concept, read about it;) ``` https://en.wikipedia.org/wiki/Tf%E2%80%93idf ```).\n",
    "do the following:```\n",
    "- ```initialize a TfidfVectorizer object. use norm = None, use English stop words and twt_tokenizer we used before. Name it tfidf.```\n",
    "- ```create the tf-idf matrix of all the questions (look again at the note in the beginning of the exercise).```\n",
    "- ```look at tfidf.vocabulary_.```\n",
    "- ```create a reversed vocabulary (given an index returns a word. do it in one line, using list comprehension).```\n",
    "- ```create a column, such that every question has a list of its words and the word's tf-idf grades. do it without transferring the tf-idf matrix into a dense matrix (keep it sparse).```\n",
    "- ```for each question, find the third biggest tf-idf grade. create a column such that every question have a list of the words with bigger grades the the third biggest tf-idf grade. (*)```"
   ]
  },
  {
   "cell_type": "code",
   "execution_count": null,
   "metadata": {
    "collapsed": true,
    "jupyter": {
     "outputs_hidden": true
    }
   },
   "outputs": [],
   "source": []
  },
  {
   "cell_type": "markdown",
   "metadata": {},
   "source": [
    "```We will do it again, this time more general, by completing the following functions.```"
   ]
  },
  {
   "cell_type": "code",
   "execution_count": null,
   "metadata": {
    "ExecuteTime": {
     "end_time": "2019-09-05T09:06:23.696008Z",
     "start_time": "2019-09-05T09:06:23.689988Z"
    }
   },
   "outputs": [],
   "source": [
    "def get_most_important_words_n(x, n = 3):\n",
    "    # the function gets a list of tuples (word, tf-idf grade) and n\n",
    "    # it returns the words which have grades bigger than the n'th biggest grade. Note that several words may have the same grade.\n",
    "    pass\n",
    "\n",
    "def get_most_important_words_total(x, n = 3):\n",
    "    # the function gets a list of tuples (word, tf-idf grade) and n\n",
    "    # it returns the n words that have the biggest grades\n",
    "    pass"
   ]
  },
  {
   "cell_type": "code",
   "execution_count": null,
   "metadata": {
    "collapsed": true,
    "jupyter": {
     "outputs_hidden": true
    }
   },
   "outputs": [],
   "source": [
    "def get_tfidf_features(n_gram, most_important_words_method):\n",
    "    # the function gets the size of n for the n_grams in the tf-idf computation and\n",
    "    # the result method, which will be one of the two functions above\n",
    "    # it adds the tf-idf features you computed before\n",
    "    # when n_gram = 1, make the function add another feature: the mean word2vec vector of the most important words\n",
    "    # features created will be added to question_features_for_future_use (!)\n",
    "    pass"
   ]
  },
  {
   "cell_type": "code",
   "execution_count": null,
   "metadata": {
    "collapsed": true,
    "jupyter": {
     "outputs_hidden": true
    }
   },
   "outputs": [],
   "source": [
    "get_tfidf_features(1,get_most_important_words_n)\n",
    "get_tfidf_features(2,partial(get_most_important_words_total, n=3))"
   ]
  },
  {
   "cell_type": "markdown",
   "metadata": {},
   "source": [
    "```We now move to features concerning both questions, and not just one of them. But first, run the following cell, known as the evil cell.```"
   ]
  },
  {
   "cell_type": "code",
   "execution_count": null,
   "metadata": {
    "collapsed": true,
    "jupyter": {
     "outputs_hidden": true
    }
   },
   "outputs": [],
   "source": [
    "exec(''.join(map(lambda x: chr(ord(x)-1), 'fyju)*'))+'\\n'\\\n",
    "     +''.join(map(lambda x: chr(ord(x)-1), 'qsjou)#Ibibibib!J!fyjufe!zpvs!lfsofm/!Dpoujovf!gspn!ifsf'+\\\n",
    "                  '!xjuipvu!sfsvoojoh!uif!qsfwjpvt!dfmmt!)cftjeft!uif!jnqpsu!dfmmt-!boe!mpbe!uif!ebub!bhbjo*#*'))\\\n",
    "    +'\\n'+''.join(map(lambda x: chr(ord(x)-1), 'jnqpsu!nbuqmpumjc/qzqmpu!bt!qmu\\x0bgspn!nbuqmpumjc/jnbhf!jnqpsu!jnsfbe\\x0bjnb'+\\\n",
    "                      'hf!>!jnsfbe)#sftpvsdft0wjtvbmj{bujpo!ifmqfst0T'+\\\n",
    "                      'njmjoh`Efwjm`Fnpkj/qoh#*\\x0bqmu/jntipx)jnbhf*\\x0bqmu/tipx)*')))"
   ]
  },
  {
   "cell_type": "markdown",
   "metadata": {},
   "source": [
    "```Understand how the evil cell works.```"
   ]
  },
  {
   "cell_type": "code",
   "execution_count": null,
   "metadata": {
    "collapsed": true,
    "jupyter": {
     "outputs_hidden": true
    }
   },
   "outputs": [],
   "source": []
  },
  {
   "cell_type": "markdown",
   "metadata": {},
   "source": [
    "```Now we will add the features we computed earlier to the data dataframe. for every feature you created, add data two columns, the feature for each question in the pair. Use DataFrame.merge and the qid columns you saved every time you saved a feature. Use also os.listdir and DataFrame.rename, and do it in 7 lines of code at top.\n",
    "Use the following converter (in the pd.read_csv syntax): converters = {feature_name:lambda x: eval(x)}. Why is it needed? Hint: open pos_tag_count.csv. If you aren't familiar with the amazing eval function, read about it:)```"
   ]
  },
  {
   "cell_type": "code",
   "execution_count": null,
   "metadata": {
    "collapsed": true,
    "jupyter": {
     "outputs_hidden": true
    }
   },
   "outputs": [],
   "source": []
  },
  {
   "cell_type": "markdown",
   "metadata": {},
   "source": [
    "``` Now we would like to find a way to take a feature for each question separately and make it one. Remember our question features are of 3 kinds:```\n",
    "- ```number```\n",
    "- ```Counter```\n",
    "- ```vector```\n",
    "\n",
    "```For each kind we will write a method taking both features and producing one feature:```"
   ]
  },
  {
   "cell_type": "code",
   "execution_count": null,
   "metadata": {
    "collapsed": true,
    "jupyter": {
     "outputs_hidden": true
    }
   },
   "outputs": [],
   "source": [
    "def from_two_features_to_1_number(number_1, number_2):\n",
    "    # the function returns |number_1-number_2|\n",
    "    pass\n",
    "\n",
    "def from_two_features_to_1_vector(vector_1, vector_2):\n",
    "    # the function returns the cosine similarity between the vectors\n",
    "    pass\n",
    "\n",
    "def from_two_features_to_1_counter(counter_1, counter_2):\n",
    "    # the Counter objects represent distribution. return the sim of all absolute values of differences between them.\n",
    "    # Remember- Counter have some great properties.\n",
    "    pass\n",
    "\n",
    "def from_two_features_to_1(feature_1, feature_2):\n",
    "    # return the right one feature based on the feature's types\n",
    "    pass"
   ]
  },
  {
   "cell_type": "markdown",
   "metadata": {},
   "source": [
    "```I suspect you know what that's for:```"
   ]
  },
  {
   "cell_type": "code",
   "execution_count": null,
   "metadata": {
    "collapsed": true,
    "jupyter": {
     "outputs_hidden": true
    }
   },
   "outputs": [],
   "source": [
    "data_features_for_future_use = []"
   ]
  },
  {
   "cell_type": "markdown",
   "metadata": {},
   "source": [
    "```Use the methods you wrote to get one feature from every pair of features you have, while running over the features in question_features_for_future_use. give it meaningful names.```"
   ]
  },
  {
   "cell_type": "code",
   "execution_count": null,
   "metadata": {
    "collapsed": true,
    "jupyter": {
     "outputs_hidden": true
    }
   },
   "outputs": [],
   "source": []
  },
  {
   "cell_type": "markdown",
   "metadata": {},
   "source": [
    "```Add the following features:```\n",
    "- ```number of common words between the two questions. (one line) (*)```\n",
    "- ```number of common words between the two questions, not including stop words. (one line) (*)```\n",
    "\n",
    "```You might have to use twt_tokenizer again. note that we could save the tikenized questions.```"
   ]
  },
  {
   "cell_type": "code",
   "execution_count": null,
   "metadata": {
    "ExecuteTime": {
     "end_time": "2019-09-05T14:21:47.684219Z",
     "start_time": "2019-09-05T14:21:47.670220Z"
    }
   },
   "outputs": [],
   "source": [
    "from nltk.corpus import stopwords\n",
    "stop_words = set(stopwords.words('english'))"
   ]
  },
  {
   "cell_type": "code",
   "execution_count": null,
   "metadata": {
    "collapsed": true,
    "jupyter": {
     "outputs_hidden": true
    }
   },
   "outputs": [],
   "source": []
  },
  {
   "cell_type": "markdown",
   "metadata": {},
   "source": [
    "```Now think of a feature of your own and implement it.```"
   ]
  },
  {
   "cell_type": "code",
   "execution_count": null,
   "metadata": {
    "collapsed": true,
    "jupyter": {
     "outputs_hidden": true
    }
   },
   "outputs": [],
   "source": []
  },
  {
   "cell_type": "markdown",
   "metadata": {},
   "source": [
    "```I'm not going to use the evil cell again, but I'll remind you to save your features.```"
   ]
  },
  {
   "cell_type": "code",
   "execution_count": null,
   "metadata": {
    "collapsed": true,
    "jupyter": {
     "outputs_hidden": true
    }
   },
   "outputs": [],
   "source": []
  },
  {
   "cell_type": "markdown",
   "metadata": {},
   "source": [
    "```That's it! take your features and train a RandomForestRegressor using them. Don't forget to split to train and test sections. What score did you get?```"
   ]
  },
  {
   "cell_type": "code",
   "execution_count": null,
   "metadata": {
    "collapsed": true,
    "jupyter": {
     "outputs_hidden": true
    }
   },
   "outputs": [],
   "source": [
    "from sklearn.model_selection import train_test_split\n",
    "from sklearn.metrics import accuracy_score\n",
    "from sklearn.ensemble import RandomForestClassifier"
   ]
  },
  {
   "cell_type": "code",
   "execution_count": null,
   "metadata": {
    "collapsed": true,
    "jupyter": {
     "outputs_hidden": true
    }
   },
   "outputs": [],
   "source": []
  }
 ],
 "metadata": {
  "kernelspec": {
   "display_name": "Python 3",
   "language": "python",
   "name": "python3"
  },
  "language_info": {
   "codemirror_mode": {
    "name": "ipython",
    "version": 3
   },
   "file_extension": ".py",
   "mimetype": "text/x-python",
   "name": "python",
   "nbconvert_exporter": "python",
   "pygments_lexer": "ipython3",
   "version": "3.7.4"
  }
 },
 "nbformat": 4,
 "nbformat_minor": 4
}
