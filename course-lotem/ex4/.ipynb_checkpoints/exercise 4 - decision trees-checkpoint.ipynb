{
 "cells": [
  {
   "cell_type": "markdown",
   "metadata": {
    "colab_type": "text",
    "id": "fzssrdQ6p9ec"
   },
   "source": [
    "## Making trees work - Exercise\n",
    "```In this exercise you will experience with Decision Trees and Random Forests. During this part you will explore the different features of them and will plot your results. Hence, whenever exploration tasks are marked with (*), know that you are asked to plot two graphs (on the same plot): the training score against the explored feature and the test score against it.```\n",
    "\n",
    "```~Ittai Haran```"
   ]
  },
  {
   "cell_type": "code",
   "execution_count": 1,
   "metadata": {
    "colab": {},
    "colab_type": "code",
    "id": "BHCtFsfWp9ef"
   },
   "outputs": [],
   "source": [
    "import numpy as np\n",
    "import pandas as pd\n",
    "import matplotlib.pyplot as plt\n",
    "%matplotlib inline"
   ]
  },
  {
   "cell_type": "markdown",
   "metadata": {
    "colab_type": "text",
    "id": "y7a3_4Cxp9ek"
   },
   "source": [
    "```Read the dataset. In this dataset, you are provided over a hundred variables describing attributes of life insurance applicants. The task is to predict the \"Response\" variable.```\n",
    "\n",
    "```the dataset can be found in: ```https://drive.google.com/open?id=1t_P64gM1M1_c2n4PvH7AZoELH2CNh6ui"
   ]
  },
  {
   "cell_type": "code",
   "execution_count": 2,
   "metadata": {
    "colab": {},
    "colab_type": "code",
    "id": "vAp2cUCDp9el"
   },
   "outputs": [],
   "source": [
    "from sklearn.model_selection import train_test_split\n",
    "\n",
    "df = pd.read_csv('insurance_fixed.csv')\n",
    "X = df.drop(['Response'], axis = 1)\n",
    "Y = df['Response']\n",
    "X_train, X_test, Y_train, Y_test = train_test_split(X, Y, train_size = 0.7, test_size = 0.3)"
   ]
  },
  {
   "cell_type": "code",
   "execution_count": 3,
   "metadata": {
    "colab": {},
    "colab_type": "code",
    "id": "vAp2cUCDp9el"
   },
   "outputs": [
    {
     "data": {
      "text/plain": [
       "8    19489\n",
       "6    11233\n",
       "7     8027\n",
       "2     6552\n",
       "1     6207\n",
       "5     5432\n",
       "4     1428\n",
       "3     1013\n",
       "Name: Response, dtype: int64"
      ]
     },
     "execution_count": 3,
     "metadata": {},
     "output_type": "execute_result"
    }
   ],
   "source": [
    "df['Response'].value_counts()"
   ]
  },
  {
   "cell_type": "markdown",
   "metadata": {
    "colab_type": "text",
    "id": "e3WxH3Xsp9ep"
   },
   "source": [
    "```We will start by using Decision trees. Use a simple DecisionTreeClassifier with default values to predict on your train and on your test. Evaluate the model using the accuracy metric, which you can find in sklearn.```"
   ]
  },
  {
   "cell_type": "code",
   "execution_count": 4,
   "metadata": {
    "colab": {},
    "colab_type": "code",
    "id": "AiB56h8rp9eq"
   },
   "outputs": [],
   "source": [
    "from sklearn.tree import DecisionTreeClassifier\n",
    "from sklearn.metrics import accuracy_score"
   ]
  },
  {
   "cell_type": "code",
   "execution_count": 5,
   "metadata": {
    "colab": {},
    "colab_type": "code",
    "id": "tgJAkBKNp9eu"
   },
   "outputs": [
    {
     "name": "stdout",
     "output_type": "stream",
     "text": [
      "TEST ACCURACY : 0.4298624754420432\n",
      "TRAIN ACCURACY : 0.9999518837511427\n"
     ]
    }
   ],
   "source": [
    "decision_tree_clf = DecisionTreeClassifier()\n",
    "decision_tree_clf.fit(X_train,Y_train)\n",
    "y_pred_test = decision_tree_clf.predict(X_test)\n",
    "y_pred_train = decision_tree_clf.predict(X_train)\n",
    "print('TEST ACCURACY : ' + str(accuracy_score(Y_test,y_pred_test)))\n",
    "print('TRAIN ACCURACY : ' + str(accuracy_score(Y_train,y_pred_train)))"
   ]
  },
  {
   "cell_type": "markdown",
   "metadata": {
    "colab_type": "text",
    "id": "606IhCe_p9ey"
   },
   "source": [
    "```Unfortunately, you are at overfit. Now let's try to get better. Try playing with the max depth of the tree, for``` $1\\leq depth \\leq25$ ```(*) (This means you are asked to plot some graphs, remember? :) )```\n",
    "\n",
    "```Choose the optimal max_depth based on the graph you got.```"
   ]
  },
  {
   "cell_type": "code",
   "execution_count": 6,
   "metadata": {
    "colab": {},
    "colab_type": "code",
    "id": "exoVKRxpp9ez"
   },
   "outputs": [],
   "source": [
    "# from sklearn.model_selection import GridSearchCV\n",
    "\n",
    "# parameters={'max_depth': range(1,26)}\n",
    "# clf_tree=DecisionTreeClassifier()"
   ]
  },
  {
   "cell_type": "code",
   "execution_count": 7,
   "metadata": {
    "colab": {},
    "colab_type": "code",
    "id": "exoVKRxpp9ez"
   },
   "outputs": [],
   "source": [
    "# clf=GridSearchCV(clf_tree,parameters,scoring='accuracy')\n",
    "# clf.fit(X_train,Y_train)"
   ]
  },
  {
   "cell_type": "code",
   "execution_count": 8,
   "metadata": {
    "colab": {},
    "colab_type": "code",
    "id": "exoVKRxpp9ez"
   },
   "outputs": [],
   "source": [
    "# scores_df = pd.DataFrame(clf.cv_results_).sort_values(by='rank_test_score')\n",
    "# scores_df.head()\n",
    "\n",
    "#scores_df_for_plot = scores_df[['param_max_depth' , 'mean_test_score' , 'std_test_score']]"
   ]
  },
  {
   "cell_type": "code",
   "execution_count": 9,
   "metadata": {
    "colab": {},
    "colab_type": "code",
    "id": "exoVKRxpp9ez"
   },
   "outputs": [],
   "source": [
    "# import seaborn as sns\n",
    "# sns.lineplot(data = scores_df_for_plot, x='param_max_depth' , y='mean_test_score')"
   ]
  },
  {
   "cell_type": "code",
   "execution_count": 10,
   "metadata": {
    "colab": {},
    "colab_type": "code",
    "id": "exoVKRxpp9ez"
   },
   "outputs": [],
   "source": [
    "accuracy_train_test_by_depth = {}\n",
    "for i in range(1,26):\n",
    "    clf = DecisionTreeClassifier(max_depth=i).fit(X_train,Y_train)\n",
    "    y_pred_test = clf.predict(X_test)\n",
    "    y_pred_train = clf.predict(X_train)\n",
    "    accuracy_train_test_by_depth[i] = (accuracy_score(Y_test,y_pred_test),accuracy_score(Y_train,y_pred_train))\n",
    " "
   ]
  },
  {
   "cell_type": "code",
   "execution_count": 11,
   "metadata": {
    "colab": {},
    "colab_type": "code",
    "id": "exoVKRxpp9ez"
   },
   "outputs": [],
   "source": [
    "df = pd.DataFrame(accuracy_train_test_by_depth , index=['test_accuracy' , 'train_accuracy']).T"
   ]
  },
  {
   "cell_type": "code",
   "execution_count": 12,
   "metadata": {
    "colab": {},
    "colab_type": "code",
    "id": "exoVKRxpp9ez"
   },
   "outputs": [
    {
     "data": {
      "text/plain": [
       "Text(0.5, 1.0, 'TRAIN-TEST ACCURACY BY MAX DEPTH PARAMETER')"
      ]
     },
     "execution_count": 12,
     "metadata": {},
     "output_type": "execute_result"
    },
    {
     "data": {
      "image/png": "[encoded data removed]",
      "text/plain": [
       "<Figure size 842.4x595.44 with 1 Axes>"
      ]
     },
     "metadata": {},
     "output_type": "display_data"
    }
   ],
   "source": [
    "import seaborn as sns\n",
    "sns.set(rc={'figure.figsize':(11.7,8.27)})\n",
    "sns.lineplot(data= df, x=df.index , y='test_accuracy')\n",
    "sns.lineplot(data= df, x=df.index , y='train_accuracy')\n",
    "plt.title('TRAIN-TEST ACCURACY BY MAX DEPTH PARAMETER')"
   ]
  },
  {
   "cell_type": "markdown",
   "metadata": {
    "colab_type": "text",
    "id": "K1zQ3fa2p9e3"
   },
   "source": [
    "```Choose the best max_depth you found. Now try playing with min_samples_leaf. use the following values:\n",
    "[1, 10, 100, 300,700, 1000]. Do it also with max_depth = 20. What can we learn from the graphs? Please answer the question ```$\\ \\underline{in\\ another\\ cell}$```.(*)```"
   ]
  },
  {
   "cell_type": "code",
   "execution_count": 13,
   "metadata": {
    "colab": {},
    "colab_type": "code",
    "id": "ODRBOJmHp9e5"
   },
   "outputs": [
    {
     "data": {
      "text/html": [
       "<div>\n",
       "<style scoped>\n",
       "    .dataframe tbody tr th:only-of-type {\n",
       "        vertical-align: middle;\n",
       "    }\n",
       "\n",
       "    .dataframe tbody tr th {\n",
       "        vertical-align: top;\n",
       "    }\n",
       "\n",
       "    .dataframe thead th {\n",
       "        text-align: right;\n",
       "    }\n",
       "</style>\n",
       "<table border=\"1\" class=\"dataframe\">\n",
       "  <thead>\n",
       "    <tr style=\"text-align: right;\">\n",
       "      <th></th>\n",
       "      <th>test_accuracy</th>\n",
       "      <th>train_accuracy</th>\n",
       "    </tr>\n",
       "  </thead>\n",
       "  <tbody>\n",
       "    <tr>\n",
       "      <td>9</td>\n",
       "      <td>0.544710</td>\n",
       "      <td>0.577058</td>\n",
       "    </tr>\n",
       "    <tr>\n",
       "      <td>8</td>\n",
       "      <td>0.544036</td>\n",
       "      <td>0.562503</td>\n",
       "    </tr>\n",
       "    <tr>\n",
       "      <td>10</td>\n",
       "      <td>0.542520</td>\n",
       "      <td>0.594813</td>\n",
       "    </tr>\n",
       "    <tr>\n",
       "      <td>11</td>\n",
       "      <td>0.541173</td>\n",
       "      <td>0.615575</td>\n",
       "    </tr>\n",
       "    <tr>\n",
       "      <td>12</td>\n",
       "      <td>0.537974</td>\n",
       "      <td>0.637853</td>\n",
       "    </tr>\n",
       "    <tr>\n",
       "      <td>7</td>\n",
       "      <td>0.535784</td>\n",
       "      <td>0.546480</td>\n",
       "    </tr>\n",
       "    <tr>\n",
       "      <td>13</td>\n",
       "      <td>0.534550</td>\n",
       "      <td>0.665303</td>\n",
       "    </tr>\n",
       "    <tr>\n",
       "      <td>14</td>\n",
       "      <td>0.528207</td>\n",
       "      <td>0.694029</td>\n",
       "    </tr>\n",
       "    <tr>\n",
       "      <td>6</td>\n",
       "      <td>0.524614</td>\n",
       "      <td>0.529616</td>\n",
       "    </tr>\n",
       "    <tr>\n",
       "      <td>15</td>\n",
       "      <td>0.522593</td>\n",
       "      <td>0.722273</td>\n",
       "    </tr>\n",
       "    <tr>\n",
       "      <td>16</td>\n",
       "      <td>0.516419</td>\n",
       "      <td>0.750469</td>\n",
       "    </tr>\n",
       "    <tr>\n",
       "      <td>5</td>\n",
       "      <td>0.515857</td>\n",
       "      <td>0.518477</td>\n",
       "    </tr>\n",
       "    <tr>\n",
       "      <td>17</td>\n",
       "      <td>0.510525</td>\n",
       "      <td>0.778184</td>\n",
       "    </tr>\n",
       "    <tr>\n",
       "      <td>18</td>\n",
       "      <td>0.502891</td>\n",
       "      <td>0.804432</td>\n",
       "    </tr>\n",
       "    <tr>\n",
       "      <td>19</td>\n",
       "      <td>0.495930</td>\n",
       "      <td>0.828706</td>\n",
       "    </tr>\n",
       "    <tr>\n",
       "      <td>4</td>\n",
       "      <td>0.491720</td>\n",
       "      <td>0.495694</td>\n",
       "    </tr>\n",
       "    <tr>\n",
       "      <td>20</td>\n",
       "      <td>0.491496</td>\n",
       "      <td>0.850262</td>\n",
       "    </tr>\n",
       "    <tr>\n",
       "      <td>21</td>\n",
       "      <td>0.485153</td>\n",
       "      <td>0.869749</td>\n",
       "    </tr>\n",
       "    <tr>\n",
       "      <td>22</td>\n",
       "      <td>0.480887</td>\n",
       "      <td>0.889188</td>\n",
       "    </tr>\n",
       "    <tr>\n",
       "      <td>23</td>\n",
       "      <td>0.475274</td>\n",
       "      <td>0.905259</td>\n",
       "    </tr>\n",
       "    <tr>\n",
       "      <td>24</td>\n",
       "      <td>0.469997</td>\n",
       "      <td>0.918828</td>\n",
       "    </tr>\n",
       "    <tr>\n",
       "      <td>25</td>\n",
       "      <td>0.465675</td>\n",
       "      <td>0.930159</td>\n",
       "    </tr>\n",
       "    <tr>\n",
       "      <td>3</td>\n",
       "      <td>0.456974</td>\n",
       "      <td>0.459390</td>\n",
       "    </tr>\n",
       "    <tr>\n",
       "      <td>2</td>\n",
       "      <td>0.436205</td>\n",
       "      <td>0.439566</td>\n",
       "    </tr>\n",
       "    <tr>\n",
       "      <td>1</td>\n",
       "      <td>0.397250</td>\n",
       "      <td>0.398956</td>\n",
       "    </tr>\n",
       "  </tbody>\n",
       "</table>\n",
       "</div>"
      ],
      "text/plain": [
       "    test_accuracy  train_accuracy\n",
       "9        0.544710        0.577058\n",
       "8        0.544036        0.562503\n",
       "10       0.542520        0.594813\n",
       "11       0.541173        0.615575\n",
       "12       0.537974        0.637853\n",
       "7        0.535784        0.546480\n",
       "13       0.534550        0.665303\n",
       "14       0.528207        0.694029\n",
       "6        0.524614        0.529616\n",
       "15       0.522593        0.722273\n",
       "16       0.516419        0.750469\n",
       "5        0.515857        0.518477\n",
       "17       0.510525        0.778184\n",
       "18       0.502891        0.804432\n",
       "19       0.495930        0.828706\n",
       "4        0.491720        0.495694\n",
       "20       0.491496        0.850262\n",
       "21       0.485153        0.869749\n",
       "22       0.480887        0.889188\n",
       "23       0.475274        0.905259\n",
       "24       0.469997        0.918828\n",
       "25       0.465675        0.930159\n",
       "3        0.456974        0.459390\n",
       "2        0.436205        0.439566\n",
       "1        0.397250        0.398956"
      ]
     },
     "execution_count": 13,
     "metadata": {},
     "output_type": "execute_result"
    }
   ],
   "source": [
    "df.sort_values(by='test_accuracy' , ascending=False) #it looks like the best depth for us is 8 - small difference betweem test & train with good accuracy"
   ]
  },
  {
   "cell_type": "code",
   "execution_count": 14,
   "metadata": {
    "colab": {},
    "colab_type": "code",
    "id": "ODRBOJmHp9e5"
   },
   "outputs": [],
   "source": [
    "#train with best deapth 8\n",
    "accuracy_train_test_by_min_samples_leaf = {}\n",
    "for i in [1, 10, 100, 300,700, 1000]:\n",
    "    clf = DecisionTreeClassifier(max_depth=8, min_samples_leaf=i).fit(X_train,Y_train)\n",
    "    y_pred_test = clf.predict(X_test)\n",
    "    y_pred_train = clf.predict(X_train)\n",
    "    accuracy_train_test_by_min_samples_leaf[i] = (accuracy_score(Y_test,y_pred_test),accuracy_score(Y_train,y_pred_train))"
   ]
  },
  {
   "cell_type": "code",
   "execution_count": 15,
   "metadata": {
    "colab": {},
    "colab_type": "code",
    "id": "ODRBOJmHp9e5"
   },
   "outputs": [],
   "source": [
    "df_min_samples_leaf = pd.DataFrame(accuracy_train_test_by_min_samples_leaf , index=['test_accuracy' , 'train_accuracy']).T"
   ]
  },
  {
   "cell_type": "code",
   "execution_count": 16,
   "metadata": {
    "colab": {},
    "colab_type": "code",
    "id": "ODRBOJmHp9e5"
   },
   "outputs": [
    {
     "data": {
      "text/plain": [
       "Text(0.5, 1.0, 'TRAIN-TEST ACCURACY BY MIN SAMPLES LEAF')"
      ]
     },
     "execution_count": 16,
     "metadata": {},
     "output_type": "execute_result"
    },
    {
     "data": {
      "image/png": "[encoded data removed]",
      "text/plain": [
       "<Figure size 842.4x595.44 with 1 Axes>"
      ]
     },
     "metadata": {},
     "output_type": "display_data"
    }
   ],
   "source": [
    "sns.lineplot(data= df_min_samples_leaf, x=df_min_samples_leaf.index , y='test_accuracy' , legend='full', label='TEST')\n",
    "sns.lineplot(data= df_min_samples_leaf, x=df_min_samples_leaf.index , y='train_accuracy', legend='full', label='TRAIN')\n",
    "plt.title('TRAIN-TEST ACCURACY BY MIN SAMPLES LEAF')"
   ]
  },
  {
   "cell_type": "code",
   "execution_count": 17,
   "metadata": {
    "colab": {},
    "colab_type": "code",
    "id": "ODRBOJmHp9e5"
   },
   "outputs": [],
   "source": [
    "#from the graph above we can see that with the 'best' max_depth parameter (8) - the bigger the min sample leaf is than the accuracy reduces!"
   ]
  },
  {
   "cell_type": "code",
   "execution_count": 18,
   "metadata": {
    "colab": {},
    "colab_type": "code",
    "id": "ODRBOJmHp9e5"
   },
   "outputs": [
    {
     "data": {
      "text/plain": [
       "<matplotlib.legend.Legend at 0x2a4cfc13108>"
      ]
     },
     "execution_count": 18,
     "metadata": {},
     "output_type": "execute_result"
    },
    {
     "data": {
      "image/png": "[encoded data removed]",
      "text/plain": [
       "<Figure size 842.4x595.44 with 1 Axes>"
      ]
     },
     "metadata": {},
     "output_type": "display_data"
    }
   ],
   "source": [
    "#train with best deapth 20\n",
    "accuracy_train_test_by_min_samples_leaf = {}\n",
    "for i in [1, 10, 100, 300,700, 1000]:\n",
    "    clf = DecisionTreeClassifier(max_depth=20, min_samples_leaf=i).fit(X_train,Y_train)\n",
    "    y_pred_test = clf.predict(X_test)\n",
    "    y_pred_train = clf.predict(X_train)\n",
    "    accuracy_train_test_by_min_samples_leaf[i] = (accuracy_score(Y_test,y_pred_test),accuracy_score(Y_train,y_pred_train))\n",
    "    \n",
    "df_min_samples_leaf = pd.DataFrame(accuracy_train_test_by_min_samples_leaf , index=['test_accuracy' , 'train_accuracy']).T\n",
    "\n",
    "sns.lineplot(data= df_min_samples_leaf, x=df_min_samples_leaf.index , y='test_accuracy' , legend='full' , label='TEST')\n",
    "sns.lineplot(data= df_min_samples_leaf, x=df_min_samples_leaf.index , y='train_accuracy', legend='full', label='TRAIN')\n",
    "plt.title('TRAIN-TEST ACCURACY BY MIN SAMPLES LEAF')\n",
    "plt.legend()"
   ]
  },
  {
   "cell_type": "code",
   "execution_count": 19,
   "metadata": {
    "colab": {},
    "colab_type": "code",
    "id": "ODRBOJmHp9e5"
   },
   "outputs": [],
   "source": [
    "#from the graph above we can see that using max_depth parameter to 20 - in the low values of min sample leaf there is a big overfitting, it starts to get balanced arount MIN_SAMPLES_LEAF=100 and above..but again - the bigger the min sample leaf is than the accuracy reduces!"
   ]
  },
  {
   "cell_type": "markdown",
   "metadata": {
    "colab_type": "text",
    "id": "G47JuWJyp9e9"
   },
   "source": [
    "```Decision Tree is a very nice algorithm, especially because it is very intuitive and explainable. We can even draw it!\n",
    "Train a simple Decision Tree with max_depth = 3. Call it basic_tree and run the cell below. Examine the file tree.png you created.```"
   ]
  },
  {
   "cell_type": "code",
   "execution_count": 20,
   "metadata": {
    "colab": {},
    "colab_type": "code",
    "id": "HwZ3WEzyp9e-"
   },
   "outputs": [],
   "source": [
    "basic_tree = DecisionTreeClassifier(max_depth=3).fit(X_train,Y_train)"
   ]
  },
  {
   "cell_type": "code",
   "execution_count": 21,
   "metadata": {
    "colab": {},
    "colab_type": "code",
    "id": "HwZ3WEzyp9e-"
   },
   "outputs": [],
   "source": [
    "#!set PATH=PATH;C:\\ProgramData\\Anaconda3\\Lib\\site-packages\\graphviz"
   ]
  },
  {
   "cell_type": "code",
   "execution_count": null,
   "metadata": {
    "colab": {},
    "colab_type": "code",
    "id": "HwZ3WEzyp9e-"
   },
   "outputs": [],
   "source": [
    "#!pip freeze"
   ]
  },
  {
   "cell_type": "code",
   "execution_count": 24,
   "metadata": {
    "colab": {},
    "colab_type": "code",
    "id": "HwZ3WEzyp9e-"
   },
   "outputs": [],
   "source": [
    "import os\n",
    "os.environ[\"PATH\"] += os.pathsep + 'C:\\ProgramData\\Anaconda3\\Lib\\site-packages\\graphviz-0.13.2'"
   ]
  },
  {
   "cell_type": "code",
   "execution_count": 26,
   "metadata": {
    "colab": {},
    "colab_type": "code",
    "id": "TdDoacrwp9fD"
   },
   "outputs": [],
   "source": [
    "# from sklearn.tree import export_graphviz\n",
    "# export_graphviz(basic_tree, out_file = 'tree.dot', filled  = True,\n",
    "#                 rounded = True, feature_names = X_train.columns)\n",
    "# !dot -Tpng tree.dot -o tree.png"
   ]
  },
  {
   "cell_type": "code",
   "execution_count": 26,
   "metadata": {
    "colab": {},
    "colab_type": "code",
    "id": "TdDoacrwp9fD"
   },
   "outputs": [
    {
     "name": "stderr",
     "output_type": "stream",
     "text": [
      "'dot' is not recognized as an internal or external command,\n",
      "operable program or batch file.\n"
     ]
    }
   ],
   "source": [
    "sns.set_style(\"darkgrid\")\n",
    "\n",
    "plot_tree(clf, filled=True)\n",
    "plt.show()"
   ]
  },
  {
   "cell_type": "markdown",
   "metadata": {
    "colab_type": "text",
    "id": "o4lKwhgnp9fK"
   },
   "source": [
    "```Look at the tree you got. What, would you say, are the most important features?\n",
    "As you recall, we talked about feature importance in the lecture notes. Use the attribute feature_importance_ of your tree to get a list of the most important features.```"
   ]
  },
  {
   "cell_type": "code",
   "execution_count": null,
   "metadata": {
    "colab": {},
    "colab_type": "code",
    "id": "8ssS7KPYp9fM"
   },
   "outputs": [],
   "source": []
  },
  {
   "cell_type": "markdown",
   "metadata": {
    "colab_type": "text",
    "id": "HQvMNPvvp9fP"
   },
   "source": [
    "```We will now move to Random Forest. Repeat the exlporations tasks with a Random forest with 100 trees (max depth and min samples leaf). In addition, vary the number of trees between 10 and 400, while maintaining low max_depth (*) and the max_feature parameter, between 0.1 and 1 (*). Try explaining the graphs you see ```$\\ \\underline{in\\ a\\ different\\ cell}$```. Use the flag n_jobs = -1 in your experiments to accelerate your computation time. Make sure to understand where your model is overfitted.```"
   ]
  },
  {
   "cell_type": "code",
   "execution_count": null,
   "metadata": {
    "colab": {},
    "colab_type": "code",
    "id": "s9rw9Kqjp9fQ"
   },
   "outputs": [],
   "source": [
    "from sklearn.ensemble import RandomForestClassifier"
   ]
  },
  {
   "cell_type": "code",
   "execution_count": null,
   "metadata": {
    "colab": {},
    "colab_type": "code",
    "id": "zjWk9kkUp9fW"
   },
   "outputs": [],
   "source": []
  },
  {
   "cell_type": "markdown",
   "metadata": {
    "colab_type": "text",
    "id": "yiBm0FYKp9fa"
   },
   "source": [
    "```As you could see, at least one of your graphs turned out to be very noisy. Use K Fold cross validation to evalute your model more accurately. In K Fold cross validation we split our data into K segments, and for each ```$\\ 1\\leq i\\leq K\\ $``` we test our model on the i-th segment while training it using the others.```"
   ]
  },
  {
   "cell_type": "code",
   "execution_count": null,
   "metadata": {
    "colab": {},
    "colab_type": "code",
    "id": "aNUFKqLnp9fb"
   },
   "outputs": [],
   "source": []
  },
  {
   "cell_type": "markdown",
   "metadata": {
    "colab_type": "text",
    "id": "vF9_f7Yrp9fe"
   },
   "source": [
    "```Use the Random Forest to surpass the best score you got using Decision Tree.```"
   ]
  },
  {
   "cell_type": "code",
   "execution_count": null,
   "metadata": {
    "colab": {},
    "colab_type": "code",
    "id": "cgm4u659p9ff"
   },
   "outputs": [],
   "source": []
  },
  {
   "cell_type": "markdown",
   "metadata": {
    "colab_type": "text",
    "id": "tGhmyNw0p9fj"
   },
   "source": [
    "## Extra thinking on feature importance"
   ]
  },
  {
   "cell_type": "markdown",
   "metadata": {
    "colab_type": "text",
    "id": "PbXXU8wHp9fl"
   },
   "source": [
    "```We talked about feature importance in the lecture notes. get the feature importance of each feature using a decision tree and using a random forest. Use in both cases the best hyper parameters you found so far. Discuss the differences between the answers``` $\\underline{in\\ a\\ cell}$."
   ]
  },
  {
   "cell_type": "code",
   "execution_count": null,
   "metadata": {
    "colab": {},
    "colab_type": "code",
    "id": "5YWe7OXHp9fn"
   },
   "outputs": [],
   "source": []
  },
  {
   "cell_type": "markdown",
   "metadata": {
    "colab_type": "text",
    "id": "hG6DkTTJp9fs"
   },
   "source": [
    "```We can define a concept of feature importance for linear regression: Suppose you have two features, ```$x_1$ ```and``` $x_2$. ```Suppose that you got a linear regression of the form```\n",
    "\n",
    "$y = 100\\cdot x_1 + 1\\cdot x_2$\n",
    "\n",
    "```What feature is more important? What if we have -100 instead of 100? Generalize this idea to any number of features. Train a linear regression on your data and get the feature importances.```"
   ]
  },
  {
   "cell_type": "code",
   "execution_count": null,
   "metadata": {
    "colab": {},
    "colab_type": "code",
    "id": "qfyUj613p9fu"
   },
   "outputs": [],
   "source": [
    "from sklearn.linear_model import LinearRegression"
   ]
  },
  {
   "cell_type": "code",
   "execution_count": null,
   "metadata": {
    "colab": {},
    "colab_type": "code",
    "id": "JC7giU7Qp9fz"
   },
   "outputs": [],
   "source": []
  },
  {
   "cell_type": "markdown",
   "metadata": {
    "colab_type": "text",
    "id": "EVpv87ulp9f3"
   },
   "source": [
    "## Ensemble methods and stacking\n",
    "```In this part we will explore the concept of model stacking: that is, training a model, the combining model, on the outputs of several other models. Hence, the stacking method has two steps: first we train our models, and than we train the combining model using the outputs of those models.```"
   ]
  },
  {
   "cell_type": "markdown",
   "metadata": {
    "colab_type": "text",
    "id": "7VTlcjE7p9f4"
   },
   "source": [
    "```In the setting of stacking models it is very important to train the several models on one segment of the data and train the combining model on another segment. Hence, start by splitting the data to 3 segments: train_1 segment, 35% of the data, train_2 segment, 35% of the data, and test segment, the last 30% of the data.```"
   ]
  },
  {
   "cell_type": "code",
   "execution_count": null,
   "metadata": {
    "colab": {},
    "colab_type": "code",
    "id": "vwZliyTSp9f5"
   },
   "outputs": [],
   "source": []
  },
  {
   "cell_type": "markdown",
   "metadata": {
    "colab_type": "text",
    "id": "f4vnyD6dp9f8"
   },
   "source": [
    "```Our first experiment is as follows: train a random forest of simple decision trees (30 trees, max_depth = 3), using train_1. Use the estimators of the forest to create 30*8=240 features: for each estimator get the probabilities it gives for the target to belong to any of the classes. You can get the list of the estimators using RandomForestClassifier.estimators_ and have the probabilities mentioned using model.predict_proba.\n",
    "Using the new features you got (and them only), train a logistic regression (LogisticRegression).\n",
    "Compare between the accuracy of the first random forest (on the test segment) and the accuracy of the stacked models (again, on the test segment).```"
   ]
  },
  {
   "cell_type": "code",
   "execution_count": 1,
   "metadata": {
    "colab": {},
    "colab_type": "code",
    "id": "8Hqn9a7Dp9f9"
   },
   "outputs": [
    {
     "name": "stderr",
     "output_type": "stream",
     "text": [
      "C:\\Users\\user\\Anaconda3\\lib\\importlib\\_bootstrap.py:219: RuntimeWarning: numpy.ufunc size changed, may indicate binary incompatibility. Expected 192 from C header, got 216 from PyObject\n",
      "  return f(*args, **kwds)\n"
     ]
    }
   ],
   "source": [
    "from sklearn.ensemble import RandomForestClassifier\n",
    "from sklearn.linear_model import LogisticRegression\n",
    "from sklearn.metrics import accuracy_score, log_loss"
   ]
  },
  {
   "cell_type": "code",
   "execution_count": null,
   "metadata": {
    "colab": {},
    "colab_type": "code",
    "id": "pjVZ-Ne9p9gC"
   },
   "outputs": [],
   "source": []
  },
  {
   "cell_type": "markdown",
   "metadata": {
    "colab_type": "text",
    "id": "b7hRZrXnp9gG"
   },
   "source": [
    "```We will conduct a similar experiment: create a set of at least 5 different models, of different kinds - use algorithms we talked about in the course. Stack them to get a better model. Compare the accuracies of the models to the accuracy of your stacked model.```"
   ]
  },
  {
   "cell_type": "code",
   "execution_count": null,
   "metadata": {
    "colab": {},
    "colab_type": "code",
    "id": "LJN0tyBqp9gI"
   },
   "outputs": [],
   "source": [
    "from sklearn.tree import DecisionTreeClassifier\n",
    "from sklearn.neighbors import KNeighborsClassifier\n",
    "from sklearn.linear_model import LinearRegression, LogisticRegressionCV, LogisticRegression, RidgeClassifier, RidgeClassifierCV"
   ]
  },
  {
   "cell_type": "code",
   "execution_count": null,
   "metadata": {
    "colab": {},
    "colab_type": "code",
    "id": "ur5FBy-1p9gL"
   },
   "outputs": [],
   "source": []
  },
  {
   "cell_type": "markdown",
   "metadata": {
    "colab_type": "text",
    "id": "0eCU_NVUp9gP"
   },
   "source": [
    "```As we said earlier, it is very important use two different train segments. What happens if you use the same train segment in both steps of the stacked model? Note that you now use more data to train your models, and also your combining model. Do you get better results? Do it and explain your results ```$\\underline{\\ in\\ a\\ cell\\ below.}$"
   ]
  },
  {
   "cell_type": "code",
   "execution_count": null,
   "metadata": {
    "colab": {},
    "colab_type": "code",
    "id": "1EEYQWXVp9gR"
   },
   "outputs": [],
   "source": []
  }
 ],
 "metadata": {
  "colab": {
   "name": "exercise 2 - supervised learning (and some clustering).ipynb",
   "provenance": [],
   "version": "0.3.2"
  },
  "kernelspec": {
   "display_name": "Python 3",
   "language": "python",
   "name": "python3"
  },
  "language_info": {
   "codemirror_mode": {
    "name": "ipython",
    "version": 3
   },
   "file_extension": ".py",
   "mimetype": "text/x-python",
   "name": "python",
   "nbconvert_exporter": "python",
   "pygments_lexer": "ipython3",
   "version": "3.7.4"
  }
 },
 "nbformat": 4,
 "nbformat_minor": 4
}
